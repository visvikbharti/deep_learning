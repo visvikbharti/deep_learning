{
  "nbformat": 4,
  "nbformat_minor": 0,
  "metadata": {
    "colab": {
      "name": "EIJ Classification.ipynb",
      "provenance": [],
      "collapsed_sections": [],
      "authorship_tag": "ABX9TyMF85dwAmyffcCFa5ZkeMxw",
      "include_colab_link": true
    },
    "kernelspec": {
      "display_name": "Python 3",
      "name": "python3"
    },
    "language_info": {
      "name": "python"
    }
  },
  "cells": [
    {
      "cell_type": "markdown",
      "metadata": {
        "id": "view-in-github",
        "colab_type": "text"
      },
      "source": [
        "<a href=\"https://colab.research.google.com/github/visvikbharti/deep_learning/blob/master/EIJ_Classification.ipynb\" target=\"_parent\"><img src=\"https://colab.research.google.com/assets/colab-badge.svg\" alt=\"Open In Colab\"/></a>"
      ]
    },
    {
      "cell_type": "markdown",
      "metadata": {
        "id": "Y80IQF_5i6j8"
      },
      "source": [
        "**DNA Sequence Classification using LSTM:**\n",
        " \n",
        " GOAL: To classify the DNA sequence each of length 60 into either of three categories:\n",
        " \n",
        "      1. EI - Exon-Intron junction sequences\n",
        "\n",
        "      2. IE - Intron-Exon Junction sequences\n",
        "\n",
        "      3. N -  Neither\n"
      ]
    },
    {
      "cell_type": "markdown",
      "metadata": {
        "id": "hQCHQSahl1kw"
      },
      "source": [
        "**Splice dataset :**\n",
        "\n",
        "I have taken Splice dataset from UCI Machine Learning Repository.\n",
        "\n",
        "In the splice dataset I have 3190 DNA sequences each of length 60 which consist of the following: {A, G, C, T, N, D, S, R}. \n",
        "\n",
        "Character : Meaning\n",
        "\n",
        "D:  A or G or T\n",
        "\n",
        "N:  A or G or C or T\n",
        "\n",
        "S:  C or G\n",
        "\n",
        "R:  A or G\n",
        "\n",
        "And the corresponding classes are of the following : {EI, IE, N}\n"
      ]
    },
    {
      "cell_type": "markdown",
      "metadata": {
        "id": "3SpaFJYX04fv"
      },
      "source": [
        "Importing all dependencies"
      ]
    },
    {
      "cell_type": "code",
      "metadata": {
        "colab": {
          "base_uri": "https://localhost:8080/"
        },
        "id": "DPiJnH3LinxF",
        "outputId": "ef67e374-2551-483b-b311-52adfa58fea1"
      },
      "source": [
        "import tensorflow as tf\n",
        "import numpy as np\n",
        "\n",
        "import matplotlib\n",
        "import matplotlib.pyplot as plt\n",
        "%matplotlib inline\n",
        "\n",
        "import os\n",
        "\n",
        "# For LSTM Model\n",
        "from tensorflow.keras.layers import Input, LSTM, Dense\n",
        "from tensorflow.keras.models import Model, Sequential\n",
        "\n",
        "from sklearn.model_selection import train_test_split\n",
        "print(tf.test.is_built_with_cuda())"
      ],
      "execution_count": 18,
      "outputs": [
        {
          "output_type": "stream",
          "text": [
            "True\n"
          ],
          "name": "stdout"
        }
      ]
    },
    {
      "cell_type": "markdown",
      "metadata": {
        "id": "D76CldCo1qjm"
      },
      "source": [
        "**Plot Function**  : To plot the Accuracy and loss graph."
      ]
    },
    {
      "cell_type": "code",
      "metadata": {
        "id": "mv9rHzaN0jEz"
      },
      "source": [
        "#plot function\n",
        "def plot(args, labels, x_label: str = None, y_label: str = None, tag: str = None, path: str = '.', show=True):\n",
        "    for arg, label in zip(args, labels):\n",
        "        epochs = [i+1 for i in range(len(arg))]\n",
        "        plt.plot(epochs, arg, label=label)\n",
        "\n",
        "    if y_label:\n",
        "        plt.ylabel(y_label)\n",
        "    if x_label:\n",
        "        plt.xlabel(x_label)\n",
        "\n",
        "    if tag:\n",
        "        plt.title(tag)\n",
        "\n",
        "    plt.legend()\n",
        "    if path:\n",
        "        plt.savefig(path)\n",
        "    if show:\n",
        "      plt.show()\n",
        "    else:\n",
        "      plt.clf()"
      ],
      "execution_count": 20,
      "outputs": []
    },
    {
      "cell_type": "markdown",
      "metadata": {
        "id": "ARM6lDuC16be"
      },
      "source": [
        "**Loading Splice dataset:**  Function for loading the \"splice.data\" from \"training_data: folder."
      ]
    },
    {
      "cell_type": "code",
      "metadata": {
        "id": "H8vaeOtj1phq"
      },
      "source": [
        "#function for loading dataset\n",
        "def load_train_data():\n",
        "  data = None\n",
        "  with open('training_data/splice.data') as f:\n",
        "    data = f.readlines()\n",
        "\n",
        "  data_tuple = [(d.split(',')[0], d.split(',')[-1].strip()) for d in data]\n",
        "  x = np.array([val[1] for val in data_tuple])\n",
        "  y = np.array([val[0] for val in data_tuple])\n",
        "  return x, y"
      ],
      "execution_count": 21,
      "outputs": []
    },
    {
      "cell_type": "code",
      "metadata": {
        "id": "1-RhInId1_RL"
      },
      "source": [
        "#Loading the data\n",
        "x, y = load_train_data()"
      ],
      "execution_count": 22,
      "outputs": []
    },
    {
      "cell_type": "markdown",
      "metadata": {
        "id": "snB11T5n2hGi"
      },
      "source": [
        "**One hot encoding of the training data.**   \n"
      ]
    },
    {
      "cell_type": "code",
      "metadata": {
        "colab": {
          "base_uri": "https://localhost:8080/"
        },
        "id": "E-8tS7-X2cOB",
        "outputId": "51647350-0959-460d-b3c3-8f0d5fff42ff"
      },
      "source": [
        "# creating one hot encoded values for each class in y\n",
        "classes = list(set(y))\n",
        "encoded_y = tf.one_hot(range(len(classes)), depth=len(classes))\n",
        "\n",
        "# creating one hot encoded values for each symbol in x\n",
        "primary_symbols = ['A', 'G', 'C', 'T']\n",
        "derived_symbols = ['D', 'S', 'R', 'N']\n",
        "symbols = primary_symbols + derived_symbols\n",
        "\n",
        "## symbol representing equal probability of primary symbols occurence\n",
        "symbol_occ_map = {\n",
        "    'D': ['A', 'G', 'T'],\n",
        "    'S': ['C', 'G'],\n",
        "    'R': ['A', 'G'],\n",
        "    'N': ['A', 'G', 'C', 'T']\n",
        "}\n",
        "\n",
        "encoded_sym = tf.one_hot(range(len(primary_symbols)), depth=len(primary_symbols))\n",
        "\n",
        "symbol_map = {sym:encoded_sym[idx] for idx, sym in enumerate(primary_symbols)}\n",
        "\n",
        "for sym in derived_symbols:\n",
        "  symbol_map[sym] = np.sum([symbol_map[p_sym] for p_sym in symbol_occ_map[sym]], axis=0)\n",
        "\n",
        "for sym in symbols:\n",
        "    print(f\"{sym} -> {symbol_map[sym]}\")\n",
        "\n",
        "# mapping class/symbol names to their hot encoded values\n",
        "class_map = {class_:encoded_y[idx] for idx, class_ in enumerate(classes)}\n",
        "\n",
        "\n",
        "print(f\"symbols: {symbols}\")\n",
        "print(f\"Encoded symbol: {encoded_sym}\")\n",
        "\n",
        "print(f\"classes: {classes}\")\n",
        "print(f\"Encoded classes: {encoded_y}\")"
      ],
      "execution_count": 23,
      "outputs": [
        {
          "output_type": "stream",
          "text": [
            "A -> [1. 0. 0. 0.]\n",
            "G -> [0. 1. 0. 0.]\n",
            "C -> [0. 0. 1. 0.]\n",
            "T -> [0. 0. 0. 1.]\n",
            "D -> [1. 1. 0. 1.]\n",
            "S -> [0. 1. 1. 0.]\n",
            "R -> [1. 1. 0. 0.]\n",
            "N -> [1. 1. 1. 1.]\n",
            "symbols: ['A', 'G', 'C', 'T', 'D', 'S', 'R', 'N']\n",
            "Encoded symbol: [[1. 0. 0. 0.]\n",
            " [0. 1. 0. 0.]\n",
            " [0. 0. 1. 0.]\n",
            " [0. 0. 0. 1.]]\n",
            "classes: ['IE', 'N', 'EI']\n",
            "Encoded classes: [[1. 0. 0.]\n",
            " [0. 1. 0.]\n",
            " [0. 0. 1.]]\n"
          ],
          "name": "stdout"
        }
      ]
    },
    {
      "cell_type": "markdown",
      "metadata": {
        "id": "l54KJpoT23Sr"
      },
      "source": [
        "Function for decoding the one hot encoded data:"
      ]
    },
    {
      "cell_type": "code",
      "metadata": {
        "id": "ClR5l__i2n19"
      },
      "source": [
        "# to get symbol representation of sequence from one hot encoded values\n",
        "to_symbol = lambda hot_encoded: \"\".join([symbols[idx] for idx in tf.argmax(hot_encoded, axis=1)])\n",
        "\n",
        "\n",
        "def test_same(sample_val):\n",
        "  sample_val = x[1293]\n",
        "  sample_encoded = [symbol_map[char] for char in sample_val]\n",
        "  reversed = to_symbol(sample_encoded)\n",
        "  return sample_val == reversed"
      ],
      "execution_count": 25,
      "outputs": []
    },
    {
      "cell_type": "markdown",
      "metadata": {
        "id": "gwyDgOHI3Gu3"
      },
      "source": [
        "**Making numpy array of input and output data:**"
      ]
    },
    {
      "cell_type": "code",
      "metadata": {
        "colab": {
          "base_uri": "https://localhost:8080/"
        },
        "id": "JXuPCugL3CcX",
        "outputId": "5c8e23ce-b8d1-408b-bdf9-16e52a3e3e48"
      },
      "source": [
        "X = np.array([[symbol_map[char] for char in sequence] for sequence in x])\n",
        "Y = np.array([class_map[class_] for class_ in y])\n",
        "print(f\"X : {X.shape}\")\n",
        "print(f\"Y : {Y.shape}\")"
      ],
      "execution_count": 26,
      "outputs": [
        {
          "output_type": "stream",
          "text": [
            "X : (3190, 60, 4)\n",
            "Y : (3190, 3)\n"
          ],
          "name": "stdout"
        }
      ]
    },
    {
      "cell_type": "markdown",
      "metadata": {
        "id": "7PsnFcna3n3F"
      },
      "source": [
        "**Splitting dataset:**\n",
        "\n",
        "Splitting data into test and train set using scikit learn functions."
      ]
    },
    {
      "cell_type": "code",
      "metadata": {
        "colab": {
          "base_uri": "https://localhost:8080/"
        },
        "id": "NVIfQW6W3kee",
        "outputId": "fe74b3df-2878-4fd3-83e5-a542966e8a41"
      },
      "source": [
        "# splitting data into train, test\n",
        "train_x, test_x, train_y, test_y = train_test_split(X, Y, test_size=0.2, random_state=21)\n",
        "print(f\"Train X : {train_x.shape}\")\n",
        "print(f\"Test X : {test_x.shape}\")\n",
        "print(f\"Train Y : {train_y.shape}\")\n",
        "print(f\"Test Y : {test_y.shape}\")"
      ],
      "execution_count": 27,
      "outputs": [
        {
          "output_type": "stream",
          "text": [
            "Train X : (2552, 60, 4)\n",
            "Test X : (638, 60, 4)\n",
            "Train Y : (2552, 3)\n",
            "Test Y : (638, 3)\n"
          ],
          "name": "stdout"
        }
      ]
    },
    {
      "cell_type": "markdown",
      "metadata": {
        "id": "ln6qclWJ39RJ"
      },
      "source": [
        "**LSTM model:**\n",
        "\n",
        "creating LSTM model using TensorFlow.Keras Sequential API."
      ]
    },
    {
      "cell_type": "code",
      "metadata": {
        "colab": {
          "base_uri": "https://localhost:8080/"
        },
        "id": "MA6rQA1a341R",
        "outputId": "0f16de64-0f4a-46af-c4d2-1b599a851ada"
      },
      "source": [
        "# LSTM cell\n",
        "from tensorflow.keras.layers import Input, LSTM, Dense\n",
        "from tensorflow.keras.models import Model, Sequential\n",
        "\n",
        "\n",
        "batch_size = 32\n",
        "time_steps = 60\n",
        "features = 4\n",
        "input_features = 4\n",
        "output_features = 3\n",
        "\n",
        "model = Sequential()\n",
        "model.add(LSTM(100, input_shape=(time_steps, input_features)))\n",
        "model.add(Dense(3, activation='sigmoid'))\n",
        "model.compile(loss=\"categorical_crossentropy\", optimizer=\"adam\", metrics= ['accuracy'])\n",
        "\n",
        "model.summary()"
      ],
      "execution_count": 28,
      "outputs": [
        {
          "output_type": "stream",
          "text": [
            "Model: \"sequential_1\"\n",
            "_________________________________________________________________\n",
            "Layer (type)                 Output Shape              Param #   \n",
            "=================================================================\n",
            "lstm_1 (LSTM)                (None, 100)               42000     \n",
            "_________________________________________________________________\n",
            "dense_1 (Dense)              (None, 3)                 303       \n",
            "=================================================================\n",
            "Total params: 42,303\n",
            "Trainable params: 42,303\n",
            "Non-trainable params: 0\n",
            "_________________________________________________________________\n"
          ],
          "name": "stdout"
        }
      ]
    },
    {
      "cell_type": "markdown",
      "metadata": {
        "id": "2r6hertr4Onq"
      },
      "source": [
        "**Model Training:**\n"
      ]
    },
    {
      "cell_type": "code",
      "metadata": {
        "colab": {
          "base_uri": "https://localhost:8080/"
        },
        "id": "MCRhufNo4Jcp",
        "outputId": "ded8e546-08a8-4673-c675-5e07ede1d016"
      },
      "source": [
        "history = model.fit(x=train_x, y=train_y, batch_size=batch_size, validation_data=(test_x,test_y), epochs=100, verbose='auto')\n",
        "print(history.history.keys())"
      ],
      "execution_count": 29,
      "outputs": [
        {
          "output_type": "stream",
          "text": [
            "Epoch 1/100\n",
            "80/80 [==============================] - 5s 45ms/step - loss: 0.9916 - accuracy: 0.5270 - val_loss: 0.8921 - val_accuracy: 0.5956\n",
            "Epoch 2/100\n",
            "80/80 [==============================] - 3s 39ms/step - loss: 0.8140 - accuracy: 0.6121 - val_loss: 0.7055 - val_accuracy: 0.6740\n",
            "Epoch 3/100\n",
            "80/80 [==============================] - 3s 39ms/step - loss: 0.7307 - accuracy: 0.6697 - val_loss: 0.7071 - val_accuracy: 0.6850\n",
            "Epoch 4/100\n",
            "80/80 [==============================] - 3s 38ms/step - loss: 0.7157 - accuracy: 0.6850 - val_loss: 0.6661 - val_accuracy: 0.7116\n",
            "Epoch 5/100\n",
            "80/80 [==============================] - 3s 41ms/step - loss: 0.6744 - accuracy: 0.7002 - val_loss: 0.6374 - val_accuracy: 0.7179\n",
            "Epoch 6/100\n",
            "80/80 [==============================] - 3s 39ms/step - loss: 0.6471 - accuracy: 0.7183 - val_loss: 0.6482 - val_accuracy: 0.6928\n",
            "Epoch 7/100\n",
            "80/80 [==============================] - 3s 39ms/step - loss: 0.6252 - accuracy: 0.7312 - val_loss: 0.6257 - val_accuracy: 0.7429\n",
            "Epoch 8/100\n",
            "80/80 [==============================] - 3s 39ms/step - loss: 0.6113 - accuracy: 0.7339 - val_loss: 0.6280 - val_accuracy: 0.7335\n",
            "Epoch 9/100\n",
            "80/80 [==============================] - 3s 39ms/step - loss: 0.5899 - accuracy: 0.7539 - val_loss: 0.6748 - val_accuracy: 0.6975\n",
            "Epoch 10/100\n",
            "80/80 [==============================] - 3s 39ms/step - loss: 0.5706 - accuracy: 0.7586 - val_loss: 0.5922 - val_accuracy: 0.7320\n",
            "Epoch 11/100\n",
            "80/80 [==============================] - 3s 40ms/step - loss: 0.5742 - accuracy: 0.7567 - val_loss: 0.5633 - val_accuracy: 0.7524\n",
            "Epoch 12/100\n",
            "80/80 [==============================] - 3s 40ms/step - loss: 0.5379 - accuracy: 0.7794 - val_loss: 0.5734 - val_accuracy: 0.7524\n",
            "Epoch 13/100\n",
            "80/80 [==============================] - 3s 40ms/step - loss: 0.5491 - accuracy: 0.7657 - val_loss: 0.5278 - val_accuracy: 0.7806\n",
            "Epoch 14/100\n",
            "80/80 [==============================] - 3s 38ms/step - loss: 0.5392 - accuracy: 0.7735 - val_loss: 0.5526 - val_accuracy: 0.7508\n",
            "Epoch 15/100\n",
            "80/80 [==============================] - 3s 40ms/step - loss: 0.5149 - accuracy: 0.7786 - val_loss: 0.5805 - val_accuracy: 0.7696\n",
            "Epoch 16/100\n",
            "80/80 [==============================] - 3s 40ms/step - loss: 0.5017 - accuracy: 0.7892 - val_loss: 0.5969 - val_accuracy: 0.7351\n",
            "Epoch 17/100\n",
            "80/80 [==============================] - 3s 38ms/step - loss: 0.4974 - accuracy: 0.7919 - val_loss: 0.5069 - val_accuracy: 0.7680\n",
            "Epoch 18/100\n",
            "80/80 [==============================] - 3s 38ms/step - loss: 0.4915 - accuracy: 0.7841 - val_loss: 0.4969 - val_accuracy: 0.7680\n",
            "Epoch 19/100\n",
            "80/80 [==============================] - 3s 38ms/step - loss: 0.4714 - accuracy: 0.8060 - val_loss: 0.5171 - val_accuracy: 0.7931\n",
            "Epoch 20/100\n",
            "80/80 [==============================] - 3s 37ms/step - loss: 0.4494 - accuracy: 0.8154 - val_loss: 0.4625 - val_accuracy: 0.8260\n",
            "Epoch 21/100\n",
            "80/80 [==============================] - 3s 38ms/step - loss: 0.4275 - accuracy: 0.8229 - val_loss: 0.4010 - val_accuracy: 0.8354\n",
            "Epoch 22/100\n",
            "80/80 [==============================] - 3s 39ms/step - loss: 0.4269 - accuracy: 0.8256 - val_loss: 0.4252 - val_accuracy: 0.8260\n",
            "Epoch 23/100\n",
            "80/80 [==============================] - 3s 38ms/step - loss: 0.4057 - accuracy: 0.8354 - val_loss: 0.4059 - val_accuracy: 0.8354\n",
            "Epoch 24/100\n",
            "80/80 [==============================] - 3s 38ms/step - loss: 0.3920 - accuracy: 0.8452 - val_loss: 0.3984 - val_accuracy: 0.8370\n",
            "Epoch 25/100\n",
            "80/80 [==============================] - 3s 38ms/step - loss: 0.3507 - accuracy: 0.8574 - val_loss: 0.3343 - val_accuracy: 0.8683\n",
            "Epoch 26/100\n",
            "80/80 [==============================] - 3s 39ms/step - loss: 0.3550 - accuracy: 0.8593 - val_loss: 0.4005 - val_accuracy: 0.8480\n",
            "Epoch 27/100\n",
            "80/80 [==============================] - 3s 38ms/step - loss: 0.3330 - accuracy: 0.8734 - val_loss: 0.3875 - val_accuracy: 0.8464\n",
            "Epoch 28/100\n",
            "80/80 [==============================] - 3s 38ms/step - loss: 0.3320 - accuracy: 0.8711 - val_loss: 0.2912 - val_accuracy: 0.8856\n",
            "Epoch 29/100\n",
            "80/80 [==============================] - 3s 38ms/step - loss: 0.2999 - accuracy: 0.8824 - val_loss: 0.3396 - val_accuracy: 0.8715\n",
            "Epoch 30/100\n",
            "80/80 [==============================] - 3s 38ms/step - loss: 0.2895 - accuracy: 0.8958 - val_loss: 0.3106 - val_accuracy: 0.8777\n",
            "Epoch 31/100\n",
            "80/80 [==============================] - 3s 38ms/step - loss: 0.2743 - accuracy: 0.8950 - val_loss: 0.2758 - val_accuracy: 0.8966\n",
            "Epoch 32/100\n",
            "80/80 [==============================] - 3s 38ms/step - loss: 0.2445 - accuracy: 0.9083 - val_loss: 0.3117 - val_accuracy: 0.8777\n",
            "Epoch 33/100\n",
            "80/80 [==============================] - 3s 40ms/step - loss: 0.2335 - accuracy: 0.9177 - val_loss: 0.2506 - val_accuracy: 0.9044\n",
            "Epoch 34/100\n",
            "80/80 [==============================] - 3s 39ms/step - loss: 0.2921 - accuracy: 0.8930 - val_loss: 0.2863 - val_accuracy: 0.8997\n",
            "Epoch 35/100\n",
            "80/80 [==============================] - 3s 39ms/step - loss: 0.2212 - accuracy: 0.9236 - val_loss: 0.2602 - val_accuracy: 0.9122\n",
            "Epoch 36/100\n",
            "80/80 [==============================] - 3s 39ms/step - loss: 0.2297 - accuracy: 0.9126 - val_loss: 0.2770 - val_accuracy: 0.8918\n",
            "Epoch 37/100\n",
            "80/80 [==============================] - 3s 39ms/step - loss: 0.2206 - accuracy: 0.9150 - val_loss: 0.2899 - val_accuracy: 0.8981\n",
            "Epoch 38/100\n",
            "80/80 [==============================] - 3s 38ms/step - loss: 0.2053 - accuracy: 0.9232 - val_loss: 0.3202 - val_accuracy: 0.8871\n",
            "Epoch 39/100\n",
            "80/80 [==============================] - 3s 39ms/step - loss: 0.1896 - accuracy: 0.9330 - val_loss: 0.2331 - val_accuracy: 0.9279\n",
            "Epoch 40/100\n",
            "80/80 [==============================] - 3s 41ms/step - loss: 0.1744 - accuracy: 0.9393 - val_loss: 0.2588 - val_accuracy: 0.9060\n",
            "Epoch 41/100\n",
            "80/80 [==============================] - 3s 38ms/step - loss: 0.1705 - accuracy: 0.9404 - val_loss: 0.2495 - val_accuracy: 0.9075\n",
            "Epoch 42/100\n",
            "80/80 [==============================] - 3s 39ms/step - loss: 0.1530 - accuracy: 0.9436 - val_loss: 0.2697 - val_accuracy: 0.9169\n",
            "Epoch 43/100\n",
            "80/80 [==============================] - 3s 40ms/step - loss: 0.1566 - accuracy: 0.9455 - val_loss: 0.2235 - val_accuracy: 0.9216\n",
            "Epoch 44/100\n",
            "80/80 [==============================] - 3s 39ms/step - loss: 0.1452 - accuracy: 0.9436 - val_loss: 0.2070 - val_accuracy: 0.9279\n",
            "Epoch 45/100\n",
            "80/80 [==============================] - 3s 38ms/step - loss: 0.1322 - accuracy: 0.9549 - val_loss: 0.2296 - val_accuracy: 0.9201\n",
            "Epoch 46/100\n",
            "80/80 [==============================] - 3s 39ms/step - loss: 0.1410 - accuracy: 0.9522 - val_loss: 0.2312 - val_accuracy: 0.9201\n",
            "Epoch 47/100\n",
            "80/80 [==============================] - 3s 39ms/step - loss: 0.1494 - accuracy: 0.9424 - val_loss: 0.2447 - val_accuracy: 0.9138\n",
            "Epoch 48/100\n",
            "80/80 [==============================] - 3s 39ms/step - loss: 0.1667 - accuracy: 0.9416 - val_loss: 0.2383 - val_accuracy: 0.9138\n",
            "Epoch 49/100\n",
            "80/80 [==============================] - 3s 40ms/step - loss: 0.1132 - accuracy: 0.9592 - val_loss: 0.2296 - val_accuracy: 0.9279\n",
            "Epoch 50/100\n",
            "80/80 [==============================] - 3s 39ms/step - loss: 0.1247 - accuracy: 0.9561 - val_loss: 0.2147 - val_accuracy: 0.9310\n",
            "Epoch 51/100\n",
            "80/80 [==============================] - 3s 40ms/step - loss: 0.1246 - accuracy: 0.9542 - val_loss: 0.2516 - val_accuracy: 0.9232\n",
            "Epoch 52/100\n",
            "80/80 [==============================] - 3s 39ms/step - loss: 0.1263 - accuracy: 0.9549 - val_loss: 0.2615 - val_accuracy: 0.9154\n",
            "Epoch 53/100\n",
            "80/80 [==============================] - 3s 41ms/step - loss: 0.1280 - accuracy: 0.9538 - val_loss: 0.2809 - val_accuracy: 0.9028\n",
            "Epoch 54/100\n",
            "80/80 [==============================] - 3s 40ms/step - loss: 0.0912 - accuracy: 0.9687 - val_loss: 0.2318 - val_accuracy: 0.9326\n",
            "Epoch 55/100\n",
            "80/80 [==============================] - 3s 39ms/step - loss: 0.1013 - accuracy: 0.9624 - val_loss: 0.2547 - val_accuracy: 0.9107\n",
            "Epoch 56/100\n",
            "80/80 [==============================] - 3s 40ms/step - loss: 0.1155 - accuracy: 0.9553 - val_loss: 0.2497 - val_accuracy: 0.9091\n",
            "Epoch 57/100\n",
            "80/80 [==============================] - 3s 40ms/step - loss: 0.0945 - accuracy: 0.9679 - val_loss: 0.2949 - val_accuracy: 0.9232\n",
            "Epoch 58/100\n",
            "80/80 [==============================] - 3s 40ms/step - loss: 0.0891 - accuracy: 0.9694 - val_loss: 0.2947 - val_accuracy: 0.8997\n",
            "Epoch 59/100\n",
            "80/80 [==============================] - 3s 40ms/step - loss: 0.0873 - accuracy: 0.9694 - val_loss: 0.2896 - val_accuracy: 0.9216\n",
            "Epoch 60/100\n",
            "80/80 [==============================] - 3s 40ms/step - loss: 0.0736 - accuracy: 0.9730 - val_loss: 0.3367 - val_accuracy: 0.9122\n",
            "Epoch 61/100\n",
            "80/80 [==============================] - 3s 39ms/step - loss: 0.0771 - accuracy: 0.9718 - val_loss: 0.3124 - val_accuracy: 0.9138\n",
            "Epoch 62/100\n",
            "80/80 [==============================] - 3s 40ms/step - loss: 0.0816 - accuracy: 0.9698 - val_loss: 0.3145 - val_accuracy: 0.9107\n",
            "Epoch 63/100\n",
            "80/80 [==============================] - 3s 39ms/step - loss: 0.0819 - accuracy: 0.9675 - val_loss: 0.3245 - val_accuracy: 0.9138\n",
            "Epoch 64/100\n",
            "80/80 [==============================] - 3s 41ms/step - loss: 0.0792 - accuracy: 0.9718 - val_loss: 0.3489 - val_accuracy: 0.9060\n",
            "Epoch 65/100\n",
            "80/80 [==============================] - 3s 39ms/step - loss: 0.0840 - accuracy: 0.9702 - val_loss: 0.2902 - val_accuracy: 0.9216\n",
            "Epoch 66/100\n",
            "80/80 [==============================] - 3s 39ms/step - loss: 0.0665 - accuracy: 0.9761 - val_loss: 0.3043 - val_accuracy: 0.9295\n",
            "Epoch 67/100\n",
            "80/80 [==============================] - 3s 39ms/step - loss: 0.0643 - accuracy: 0.9757 - val_loss: 0.2887 - val_accuracy: 0.9310\n",
            "Epoch 68/100\n",
            "80/80 [==============================] - 3s 39ms/step - loss: 0.0459 - accuracy: 0.9835 - val_loss: 0.3611 - val_accuracy: 0.9169\n",
            "Epoch 69/100\n",
            "80/80 [==============================] - 3s 39ms/step - loss: 0.0798 - accuracy: 0.9741 - val_loss: 0.2832 - val_accuracy: 0.9107\n",
            "Epoch 70/100\n",
            "80/80 [==============================] - 3s 39ms/step - loss: 0.0892 - accuracy: 0.9702 - val_loss: 0.2801 - val_accuracy: 0.9216\n",
            "Epoch 71/100\n",
            "80/80 [==============================] - 3s 39ms/step - loss: 0.0367 - accuracy: 0.9875 - val_loss: 0.3285 - val_accuracy: 0.9232\n",
            "Epoch 72/100\n",
            "80/80 [==============================] - 3s 39ms/step - loss: 0.0469 - accuracy: 0.9839 - val_loss: 0.3043 - val_accuracy: 0.9154\n",
            "Epoch 73/100\n",
            "80/80 [==============================] - 3s 39ms/step - loss: 0.0454 - accuracy: 0.9839 - val_loss: 0.3497 - val_accuracy: 0.9216\n",
            "Epoch 74/100\n",
            "80/80 [==============================] - 3s 40ms/step - loss: 0.0562 - accuracy: 0.9816 - val_loss: 0.3300 - val_accuracy: 0.9091\n",
            "Epoch 75/100\n",
            "80/80 [==============================] - 3s 39ms/step - loss: 0.0916 - accuracy: 0.9687 - val_loss: 0.3331 - val_accuracy: 0.9122\n",
            "Epoch 76/100\n",
            "80/80 [==============================] - 3s 39ms/step - loss: 0.0490 - accuracy: 0.9828 - val_loss: 0.3124 - val_accuracy: 0.9279\n",
            "Epoch 77/100\n",
            "80/80 [==============================] - 3s 39ms/step - loss: 0.0300 - accuracy: 0.9894 - val_loss: 0.3459 - val_accuracy: 0.9138\n",
            "Epoch 78/100\n",
            "80/80 [==============================] - 3s 40ms/step - loss: 0.0395 - accuracy: 0.9879 - val_loss: 0.3689 - val_accuracy: 0.9138\n",
            "Epoch 79/100\n",
            "80/80 [==============================] - 3s 40ms/step - loss: 0.0410 - accuracy: 0.9867 - val_loss: 0.3250 - val_accuracy: 0.9138\n",
            "Epoch 80/100\n",
            "80/80 [==============================] - 3s 40ms/step - loss: 0.0312 - accuracy: 0.9886 - val_loss: 0.3563 - val_accuracy: 0.9279\n",
            "Epoch 81/100\n",
            "80/80 [==============================] - 3s 40ms/step - loss: 0.0617 - accuracy: 0.9773 - val_loss: 0.4040 - val_accuracy: 0.9044\n",
            "Epoch 82/100\n",
            "80/80 [==============================] - 3s 41ms/step - loss: 0.0720 - accuracy: 0.9769 - val_loss: 0.4581 - val_accuracy: 0.8856\n",
            "Epoch 83/100\n",
            "80/80 [==============================] - 3s 39ms/step - loss: 0.0780 - accuracy: 0.9737 - val_loss: 0.3081 - val_accuracy: 0.9295\n",
            "Epoch 84/100\n",
            "80/80 [==============================] - 3s 39ms/step - loss: 0.0384 - accuracy: 0.9867 - val_loss: 0.3469 - val_accuracy: 0.9154\n",
            "Epoch 85/100\n",
            "80/80 [==============================] - 3s 40ms/step - loss: 0.0120 - accuracy: 0.9984 - val_loss: 0.3367 - val_accuracy: 0.9279\n",
            "Epoch 86/100\n",
            "80/80 [==============================] - 3s 41ms/step - loss: 0.0099 - accuracy: 0.9973 - val_loss: 0.3428 - val_accuracy: 0.9248\n",
            "Epoch 87/100\n",
            "80/80 [==============================] - 3s 40ms/step - loss: 0.0049 - accuracy: 0.9996 - val_loss: 0.3606 - val_accuracy: 0.9232\n",
            "Epoch 88/100\n",
            "80/80 [==============================] - 3s 41ms/step - loss: 0.0033 - accuracy: 0.9996 - val_loss: 0.3773 - val_accuracy: 0.9263\n",
            "Epoch 89/100\n",
            "80/80 [==============================] - 3s 39ms/step - loss: 0.0025 - accuracy: 1.0000 - val_loss: 0.3730 - val_accuracy: 0.9342\n",
            "Epoch 90/100\n",
            "80/80 [==============================] - 3s 39ms/step - loss: 0.0020 - accuracy: 1.0000 - val_loss: 0.3931 - val_accuracy: 0.9295\n",
            "Epoch 91/100\n",
            "80/80 [==============================] - 3s 39ms/step - loss: 0.0025 - accuracy: 0.9992 - val_loss: 0.4091 - val_accuracy: 0.9263\n",
            "Epoch 92/100\n",
            "80/80 [==============================] - 3s 39ms/step - loss: 0.0823 - accuracy: 0.9710 - val_loss: 0.3817 - val_accuracy: 0.9138\n",
            "Epoch 93/100\n",
            "80/80 [==============================] - 3s 40ms/step - loss: 0.1369 - accuracy: 0.9506 - val_loss: 0.3034 - val_accuracy: 0.9138\n",
            "Epoch 94/100\n",
            "80/80 [==============================] - 3s 40ms/step - loss: 0.0646 - accuracy: 0.9777 - val_loss: 0.3048 - val_accuracy: 0.9263\n",
            "Epoch 95/100\n",
            "80/80 [==============================] - 3s 40ms/step - loss: 0.0387 - accuracy: 0.9859 - val_loss: 0.3444 - val_accuracy: 0.9263\n",
            "Epoch 96/100\n",
            "80/80 [==============================] - 3s 40ms/step - loss: 0.0447 - accuracy: 0.9859 - val_loss: 0.4007 - val_accuracy: 0.9154\n",
            "Epoch 97/100\n",
            "80/80 [==============================] - 3s 40ms/step - loss: 0.0491 - accuracy: 0.9820 - val_loss: 0.3043 - val_accuracy: 0.9295\n",
            "Epoch 98/100\n",
            "80/80 [==============================] - 3s 40ms/step - loss: 0.0295 - accuracy: 0.9894 - val_loss: 0.3536 - val_accuracy: 0.9169\n",
            "Epoch 99/100\n",
            "80/80 [==============================] - 3s 39ms/step - loss: 0.0369 - accuracy: 0.9871 - val_loss: 0.3034 - val_accuracy: 0.9389\n",
            "Epoch 100/100\n",
            "80/80 [==============================] - 3s 39ms/step - loss: 0.0100 - accuracy: 0.9976 - val_loss: 0.3417 - val_accuracy: 0.9342\n",
            "dict_keys(['loss', 'accuracy', 'val_loss', 'val_accuracy'])\n"
          ],
          "name": "stdout"
        }
      ]
    },
    {
      "cell_type": "markdown",
      "metadata": {
        "id": "MXypjDaY4cXd"
      },
      "source": [
        "**Getting the keys of hostory.hostory:**\n",
        "\n",
        "These keys are helpful while plotting the accuracy or loss graph."
      ]
    },
    {
      "cell_type": "code",
      "metadata": {
        "colab": {
          "base_uri": "https://localhost:8080/"
        },
        "id": "RrgZA3KZ4WNl",
        "outputId": "8da7fa10-65c7-425c-a255-1a44beb74d09"
      },
      "source": [
        "print(history.history.keys())\n",
        "data = history.history"
      ],
      "execution_count": 30,
      "outputs": [
        {
          "output_type": "stream",
          "text": [
            "dict_keys(['loss', 'accuracy', 'val_loss', 'val_accuracy'])\n"
          ],
          "name": "stdout"
        }
      ]
    },
    {
      "cell_type": "markdown",
      "metadata": {
        "id": "cJQpumQX41Ho"
      },
      "source": [
        "**Plotting the Accuracy against epochs:**"
      ]
    },
    {
      "cell_type": "code",
      "metadata": {
        "colab": {
          "base_uri": "https://localhost:8080/",
          "height": 313
        },
        "id": "p0BqH06R4at9",
        "outputId": "de557628-a48c-4ca7-9a0e-ca8ec3d0bafb"
      },
      "source": [
        "print(f\"Final Train Acc = {data['accuracy'][-1]}\")\n",
        "print(f\"Final Test Acc = {data['val_accuracy'][-1]}\")\n",
        "plot([data['accuracy'], data['val_accuracy']], ['Train Acc.', 'Test Acc.'], x_label='EPOCHS', y_label='Accuracy')"
      ],
      "execution_count": 31,
      "outputs": [
        {
          "output_type": "stream",
          "text": [
            "Final Train Acc = 0.9976488947868347\n",
            "Final Test Acc = 0.9341692924499512\n"
          ],
          "name": "stdout"
        },
        {
          "output_type": "display_data",
          "data": {
            "image/png": "[encoded data removed]",
            "text/plain": [
              "<Figure size 432x288 with 1 Axes>"
            ]
          },
          "metadata": {
            "tags": [],
            "needs_background": "light"
          }
        }
      ]
    },
    {
      "cell_type": "markdown",
      "metadata": {
        "id": "TojFrwNI5Ct6"
      },
      "source": [
        "**Plotting the Loss against epochs:**\n",
        "\n",
        "Here I hve used the \"categorical crossentropy\" loss function."
      ]
    },
    {
      "cell_type": "code",
      "metadata": {
        "colab": {
          "base_uri": "https://localhost:8080/",
          "height": 313
        },
        "id": "8qimy4Fv5VKL",
        "outputId": "96e653f9-d511-49f7-dade-b8999a6ff14f"
      },
      "source": [
        "print(f\"Final Train Loss = {data['loss'][-1]}\")\n",
        "print(f\"Final Test Loss = {data['val_loss'][-1]}\")\n",
        "plot([data['loss'], data['val_loss']], ['Train Loss', 'Test Loss'], x_label='EPOCHS', y_label='LOSS')"
      ],
      "execution_count": 32,
      "outputs": [
        {
          "output_type": "stream",
          "text": [
            "Final Train Loss = 0.009991929866373539\n",
            "Final Test Loss = 0.34166479110717773\n"
          ],
          "name": "stdout"
        },
        {
          "output_type": "display_data",
          "data": {
            "image/png": "[encoded data removed]",
            "text/plain": [
              "<Figure size 432x288 with 1 Axes>"
            ]
          },
          "metadata": {
            "tags": [],
            "needs_background": "light"
          }
        }
      ]
    },
    {
      "cell_type": "markdown",
      "metadata": {
        "id": "47LpsJPK5Z5A"
      },
      "source": [
        "**Conclusion of the LSTM model training os Splice data:**\n",
        "\n",
        "Here we can see that the accuracy of the training set is about 99.3%, while the accuracy of the test set is about 93.14%.\n",
        "\n",
        "This difference can be due to various reasons but the dominating reason could be the \"overfitting\" of the model.\n"
      ]
    },
    {
      "cell_type": "markdown",
      "metadata": {
        "id": "1wl0yRpM5kuk"
      },
      "source": [
        "I got inspiration for the model training on splice data from the following paper, where they have used Convolutional Neural Network and some other encoding to train the model.\n",
        "\n",
        "Link of the paper: https://www.researchgate.net/publication/301703031_DNA_Sequence_Classification_by_Convolutional_Neural_Network\n",
        "\n",
        "**Their Accuracy : 92.6%**\n",
        "\n",
        "**My Accuracy : 93.1%** (On test set) and\n",
        "\n",
        "**My accuracy : 99.33%** (on training set)."
      ]
    },
    {
      "cell_type": "code",
      "metadata": {
        "id": "mzLzSWv45jap"
      },
      "source": [
        ""
      ],
      "execution_count": null,
      "outputs": []
    }
  ]
}