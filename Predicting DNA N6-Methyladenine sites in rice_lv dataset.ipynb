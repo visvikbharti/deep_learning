{
  "nbformat": 4,
  "nbformat_minor": 0,
  "metadata": {
    "colab": {
      "name": "rice_Lv.ipynb",
      "provenance": [],
      "authorship_tag": "ABX9TyNizRRe5NqKsn5tHUbsnGcR"
    },
    "kernelspec": {
      "name": "python3",
      "display_name": "Python 3"
    },
    "language_info": {
      "name": "python"
    }
  },
  "cells": [
    {
      "cell_type": "markdown",
      "metadata": {
        "id": "JnMu0YdOmug-"
      },
      "source": [
        "\n",
        "##**Predicting DNA N6-Methyladenine Sites in Rice Genome**"
      ]
    },
    {
      "cell_type": "markdown",
      "metadata": {
        "id": "6fLfpuL6kxTt"
      },
      "source": [
        "#**Training for the first dataset named rice_lv dataset.**\n",
        "\n",
        "---"
      ]
    },
    {
      "cell_type": "code",
      "metadata": {
        "id": "TgLtiW9NOWAb"
      },
      "source": [
        "import numpy as np\n",
        "\n",
        "import matplotlib as mpl\n",
        "mpl.use('Agg')\n",
        "\n",
        "from keras.models import Model\n",
        "from keras.layers import Dense, Dropout, Conv1D, Input,MaxPooling1D,Flatten,LeakyReLU\n",
        "from keras.layers.normalization import BatchNormalization\n",
        "from keras.optimizers import SGD,Adam\n",
        "import random\n",
        "import pandas as pd \n",
        "import numpy as np\n",
        "from keras import regularizers\n",
        "from keras.metrics import binary_accuracy\n",
        "from sklearn.metrics import confusion_matrix,recall_score,matthews_corrcoef,roc_curve,roc_auc_score,auc\n",
        "import matplotlib.pyplot as plt\n",
        "from keras.callbacks import EarlyStopping, ModelCheckpoint,ReduceLROnPlateau\n",
        "import os, sys, copy, getopt, re, argparse\n",
        "from sklearn.metrics import precision_recall_fscore_support\n",
        "import tensorflow as tf\n",
        "from keras import losses\n",
        "import pickle\n",
        "\n",
        "from scipy import interp\n",
        "\n",
        "from sklearn.model_selection import train_test_split\n",
        "import tensorflow as tf\n",
        "\n"
      ],
      "execution_count": null,
      "outputs": []
    },
    {
      "cell_type": "code",
      "metadata": {
        "id": "4TRMUHajO2L7"
      },
      "source": [
        "with open('/content/data/rice_Lv/rice_Lv_neg') as f:\n",
        "  data = f.readlines()"
      ],
      "execution_count": null,
      "outputs": []
    },
    {
      "cell_type": "code",
      "metadata": {
        "id": "clHCPKC_O8Wp"
      },
      "source": [
        "data_tuple =[(d.split(',')[0], d.split(',')[-1].strip()) for d in data]\n",
        "\n",
        "xx = [val[0] for val in data_tuple]\n",
        "yy = [val[1] for val in data_tuple]"
      ],
      "execution_count": null,
      "outputs": []
    },
    {
      "cell_type": "code",
      "metadata": {
        "id": "wFMb2kOeO9PZ"
      },
      "source": [
        "with open('/content/data/rice_Lv/rice_Lv_pos') as f:\n",
        "  data1 = f.readlines()\n",
        "\n",
        "data_tuple1 =[(d.split(',')[0], d.split(',')[-1].strip()) for d in data1]"
      ],
      "execution_count": null,
      "outputs": []
    },
    {
      "cell_type": "code",
      "metadata": {
        "id": "0YLVcLwxO-NU"
      },
      "source": [
        "xx1 = [val[0] for val in data_tuple1]\n",
        "yy1 = [val[1] for val in data_tuple1]\n"
      ],
      "execution_count": null,
      "outputs": []
    },
    {
      "cell_type": "code",
      "metadata": {
        "id": "EB4kK9PmPAc2"
      },
      "source": [
        "x = xx1[1:]+xx[1:]\n",
        "y = yy1[1:] + yy[1:]"
      ],
      "execution_count": null,
      "outputs": []
    },
    {
      "cell_type": "code",
      "metadata": {
        "id": "8Aex40t7PBPy"
      },
      "source": [
        "#Shuffling the data\n",
        "for i in range(len(y)-1, 0, -1):\n",
        "     \n",
        "    # Pick a random index from 0 to i\n",
        "    j = random.randint(0, i + 1)\n",
        "   \n",
        "    # Swap arr[i] with the element at random index\n",
        "    y[i], y[j] = y[j], y[i]"
      ],
      "execution_count": null,
      "outputs": []
    },
    {
      "cell_type": "code",
      "metadata": {
        "id": "M2idh7m2PaCR"
      },
      "source": [
        "#Shuffling the data\n",
        "for i in range(len(x)-1, 0, -1):\n",
        "     \n",
        "    # Pick a random index from 0 to i\n",
        "    j = random.randint(0, i + 1)\n",
        "   \n",
        "    # Swap arr[i] with the element at random index\n",
        "    x[i], x[j] = x[j], x[i]"
      ],
      "execution_count": null,
      "outputs": []
    },
    {
      "cell_type": "code",
      "metadata": {
        "colab": {
          "base_uri": "https://localhost:8080/"
        },
        "id": "7sv6afqaPacS",
        "outputId": "01d3cda1-3548-44d2-9c55-0fb9db3cea18"
      },
      "source": [
        "# creating one hot encoded values for each class in y\n",
        "classes = list(set(y))\n",
        "encoded_y = tf.one_hot(range(len(classes)), depth=len(classes))\n",
        "\n",
        "# creating one hot encoded values for each symbol in x\n",
        "primary_symbols = ['A', 'G', 'C', 'T']\n",
        "derived_symbols = ['D', 'S', 'R', 'N']\n",
        "symbols = primary_symbols + derived_symbols\n",
        "\n",
        "## symbol representing equal probability of primary symbols occurence\n",
        "symbol_occ_map = {\n",
        "    'D': ['A', 'G', 'T'],\n",
        "    'S': ['C', 'G'],\n",
        "    'R': ['A', 'G'],\n",
        "    'N': ['A', 'G', 'C', 'T']\n",
        "}\n",
        "\n",
        "encoded_sym = tf.one_hot(range(len(primary_symbols)), depth=len(primary_symbols))\n",
        "\n",
        "symbol_map = {sym:encoded_sym[idx] for idx, sym in enumerate(primary_symbols)}\n",
        "\n",
        "for sym in derived_symbols:\n",
        "  symbol_map[sym] = np.sum([symbol_map[p_sym] for p_sym in symbol_occ_map[sym]], axis=0)\n",
        "\n",
        "for sym in symbols:\n",
        "    print(f\"{sym} -> {symbol_map[sym]}\")\n",
        "\n",
        "# mapping class/symbol names to their hot encoded values\n",
        "class_map = {class_:encoded_y[idx] for idx, class_ in enumerate(classes)}\n",
        "\n",
        "\n",
        "print(f\"symbols: {symbols}\")\n",
        "print(f\"Encoded symbol: {encoded_sym}\")\n",
        "\n",
        "print(f\"classes: {classes}\")\n",
        "#print(f\"Encoded classes: {encoded_y}\")\n"
      ],
      "execution_count": null,
      "outputs": [
        {
          "output_type": "stream",
          "text": [
            "A -> [1. 0. 0. 0.]\n",
            "G -> [0. 1. 0. 0.]\n",
            "C -> [0. 0. 1. 0.]\n",
            "T -> [0. 0. 0. 1.]\n",
            "D -> [1. 1. 0. 1.]\n",
            "S -> [0. 1. 1. 0.]\n",
            "R -> [1. 1. 0. 0.]\n",
            "N -> [1. 1. 1. 1.]\n",
            "symbols: ['A', 'G', 'C', 'T', 'D', 'S', 'R', 'N']\n",
            "Encoded symbol: [[1. 0. 0. 0.]\n",
            " [0. 1. 0. 0.]\n",
            " [0. 0. 1. 0.]\n",
            " [0. 0. 0. 1.]]\n",
            "classes: ['0', '1']\n"
          ],
          "name": "stdout"
        }
      ]
    },
    {
      "cell_type": "code",
      "metadata": {
        "id": "n11xpJ1SPa4s"
      },
      "source": [
        "# to get symbol representation of sequence from one hot encoded values\n",
        "to_symbol = lambda hot_encoded: \"\".join([symbols[idx] for idx in tf.argmax(hot_encoded, axis=1)])\n",
        "\n",
        "\n",
        "def test_same(sample_val):\n",
        "  sample_val = x[1293]\n",
        "  sample_encoded = [symbol_map[char] for char in sample_val]\n",
        "  reversed = to_symbol(sample_encoded)\n",
        "  return sample_val == reversed"
      ],
      "execution_count": null,
      "outputs": []
    },
    {
      "cell_type": "code",
      "metadata": {
        "colab": {
          "base_uri": "https://localhost:8080/"
        },
        "id": "X2MA97qfPbTc",
        "outputId": "a110b2b7-43fc-473d-d5fd-c12c0bf48bf5"
      },
      "source": [
        "X = np.array([[symbol_map[char] for char in sequence] for sequence in x])\n",
        "Y = np.array([class_map[class_] for class_ in y])\n",
        "print(f\"X : {X.shape}\")\n",
        "print(f\"Y : {Y.shape}\")"
      ],
      "execution_count": null,
      "outputs": [
        {
          "output_type": "stream",
          "text": [
            "X : (308000, 41, 4)\n",
            "Y : (308000, 2)\n"
          ],
          "name": "stdout"
        }
      ]
    },
    {
      "cell_type": "code",
      "metadata": {
        "id": "3d1OvxF1PpVG"
      },
      "source": [
        "Y=Y[:, 0:1]"
      ],
      "execution_count": null,
      "outputs": []
    },
    {
      "cell_type": "code",
      "metadata": {
        "colab": {
          "base_uri": "https://localhost:8080/"
        },
        "id": "OzKhfgRAPpr-",
        "outputId": "e0fd6dfb-3588-460f-9b02-c06a648b6e92"
      },
      "source": [
        "# splitting data into train, test\n",
        "train_x, test_x, train_y, test_y = train_test_split(X, Y, test_size=0.3, random_state=21)\n",
        "print(f\"Train X : {train_x.shape}\")\n",
        "print(f\"Test X : {test_x.shape}\")\n",
        "print(f\"Train Y : {train_y.shape}\")\n",
        "print(f\"Test Y : {test_y.shape}\")\n"
      ],
      "execution_count": null,
      "outputs": [
        {
          "output_type": "stream",
          "text": [
            "Train X : (215600, 41, 4)\n",
            "Test X : (92400, 41, 4)\n",
            "Train Y : (215600, 1)\n",
            "Test Y : (92400, 1)\n"
          ],
          "name": "stdout"
        }
      ]
    },
    {
      "cell_type": "code",
      "metadata": {
        "id": "xAGmVdkLPqOQ"
      },
      "source": [
        "def getMode():\n",
        "\n",
        "    input_shape = (41,4)\n",
        "\n",
        "    inputs = Input(shape = input_shape)\n",
        "\n",
        "    convLayer = Conv1D(filters = 16, kernel_size = 4,activation = 'relu',input_shape = input_shape, kernel_regularizer = regularizers.l2(1e-4), bias_regularizer = regularizers.l2(1e-4))(inputs);\n",
        "    normalizationLayer = tfa.layers.GroupNormalization(groups = 4,axis=-1)(convLayer)\n",
        "    #normalizationLayer = BatchNormalization()(convLayer);\n",
        "    poolingLayer = MaxPooling1D(pool_size = 4)(normalizationLayer)\n",
        "    flattenLayer = Flatten()(poolingLayer)\n",
        "\n",
        "    dropoutLayer = Dropout(0.25)(flattenLayer)\n",
        "    denseLayer = Dense(32, activation = 'elu',kernel_regularizer = regularizers.l2(1e-4),bias_regularizer = regularizers.l2(1e-4))(dropoutLayer)\n",
        "    outLayer = Dense(1, activation='sigmoid')(denseLayer)\n",
        "\n",
        "    model = Model(inputs = inputs, outputs = outLayer)\n",
        "    model.compile(loss='binary_crossentropy', optimizer= SGD(momentum =0.95, lr = 0.05), metrics=[binary_accuracy]);\n",
        "\n",
        "    print(model.summary())\n",
        "\n",
        "    return model;"
      ],
      "execution_count": null,
      "outputs": []
    },
    {
      "cell_type": "code",
      "metadata": {
        "colab": {
          "base_uri": "https://localhost:8080/"
        },
        "id": "wBuQ6WrRVIl4",
        "outputId": "ece8ecad-f3f3-4a59-87bc-e03aa1247303"
      },
      "source": [
        "!pip install -U tensorflow-addons"
      ],
      "execution_count": null,
      "outputs": [
        {
          "output_type": "stream",
          "text": [
            "Requirement already satisfied: tensorflow-addons in /root/.local/lib/python3.7/site-packages (0.8.3)\n",
            "Collecting tensorflow-addons\n",
            "  Downloading tensorflow_addons-0.13.0-cp37-cp37m-manylinux2010_x86_64.whl (679 kB)\n",
            "\u001b[K     |████████████████████████████████| 679 kB 32.3 MB/s \n",
            "\u001b[?25hRequirement already satisfied: typeguard>=2.7 in /usr/local/lib/python3.7/dist-packages (from tensorflow-addons) (2.7.1)\n",
            "Installing collected packages: tensorflow-addons\n",
            "  Attempting uninstall: tensorflow-addons\n",
            "    Found existing installation: tensorflow-addons 0.8.3\n",
            "    Uninstalling tensorflow-addons-0.8.3:\n",
            "      Successfully uninstalled tensorflow-addons-0.8.3\n",
            "Successfully installed tensorflow-addons-0.13.0\n"
          ],
          "name": "stdout"
        }
      ]
    },
    {
      "cell_type": "code",
      "metadata": {
        "id": "djw2KvuzUbrf"
      },
      "source": [
        "import tensorflow_addons as tfa"
      ],
      "execution_count": null,
      "outputs": []
    },
    {
      "cell_type": "code",
      "metadata": {
        "id": "-cFhXa4kPqlG"
      },
      "source": [
        "model = getMode()"
      ],
      "execution_count": null,
      "outputs": []
    },
    {
      "cell_type": "code",
      "metadata": {
        "colab": {
          "base_uri": "https://localhost:8080/"
        },
        "id": "VDP7S4eWPq9l",
        "outputId": "a506a4a7-76fe-41e9-91ee-6eed69393e35"
      },
      "source": [
        "history = model.fit(train_x, train_y, batch_size = 32, epochs = 40, validation_data = (test_x, test_y))"
      ],
      "execution_count": null,
      "outputs": [
        {
          "output_type": "stream",
          "text": [
            "Epoch 1/40\n",
            "6738/6738 [==============================] - 22s 3ms/step - loss: 0.7521 - binary_accuracy: 0.5014 - val_loss: 0.7235 - val_binary_accuracy: 0.5013\n",
            "Epoch 2/40\n",
            "6738/6738 [==============================] - 23s 3ms/step - loss: 0.7552 - binary_accuracy: 0.5016 - val_loss: 0.7221 - val_binary_accuracy: 0.5013\n",
            "Epoch 3/40\n",
            "6738/6738 [==============================] - 21s 3ms/step - loss: 0.7523 - binary_accuracy: 0.4979 - val_loss: 0.7015 - val_binary_accuracy: 0.5008\n",
            "Epoch 4/40\n",
            "6738/6738 [==============================] - 22s 3ms/step - loss: 0.7550 - binary_accuracy: 0.4993 - val_loss: 0.7094 - val_binary_accuracy: 0.4987\n",
            "Epoch 5/40\n",
            "6738/6738 [==============================] - 21s 3ms/step - loss: 0.7542 - binary_accuracy: 0.5010 - val_loss: 0.7093 - val_binary_accuracy: 0.5014\n",
            "Epoch 6/40\n",
            "6738/6738 [==============================] - 23s 3ms/step - loss: 0.7431 - binary_accuracy: 0.5019 - val_loss: 0.7262 - val_binary_accuracy: 0.4987\n",
            "Epoch 7/40\n",
            "6738/6738 [==============================] - 23s 3ms/step - loss: 0.7276 - binary_accuracy: 0.4997 - val_loss: 0.7046 - val_binary_accuracy: 0.5035\n",
            "Epoch 8/40\n",
            "6738/6738 [==============================] - 23s 3ms/step - loss: 0.7244 - binary_accuracy: 0.4999 - val_loss: 0.7865 - val_binary_accuracy: 0.4987\n",
            "Epoch 9/40\n",
            "6738/6738 [==============================] - 23s 3ms/step - loss: 0.7278 - binary_accuracy: 0.4993 - val_loss: 0.7202 - val_binary_accuracy: 0.5011\n",
            "Epoch 10/40\n",
            "6738/6738 [==============================] - 21s 3ms/step - loss: 0.7256 - binary_accuracy: 0.5006 - val_loss: 0.7037 - val_binary_accuracy: 0.4994\n",
            "Epoch 11/40\n",
            "6738/6738 [==============================] - 21s 3ms/step - loss: 0.7267 - binary_accuracy: 0.4990 - val_loss: 0.7107 - val_binary_accuracy: 0.4990\n",
            "Epoch 12/40\n",
            "6738/6738 [==============================] - 23s 3ms/step - loss: 0.7222 - binary_accuracy: 0.5008 - val_loss: 0.7042 - val_binary_accuracy: 0.4994\n",
            "Epoch 13/40\n",
            "6738/6738 [==============================] - 21s 3ms/step - loss: 0.7211 - binary_accuracy: 0.4994 - val_loss: 0.7078 - val_binary_accuracy: 0.4994\n",
            "Epoch 14/40\n",
            "6738/6738 [==============================] - 23s 3ms/step - loss: 0.7238 - binary_accuracy: 0.4999 - val_loss: 0.7172 - val_binary_accuracy: 0.5008\n",
            "Epoch 15/40\n",
            "6738/6738 [==============================] - 21s 3ms/step - loss: 0.7221 - binary_accuracy: 0.4981 - val_loss: 0.7201 - val_binary_accuracy: 0.4990\n",
            "Epoch 16/40\n",
            "6738/6738 [==============================] - 23s 3ms/step - loss: 0.7234 - binary_accuracy: 0.4987 - val_loss: 0.7273 - val_binary_accuracy: 0.5013\n",
            "Epoch 17/40\n",
            "6738/6738 [==============================] - 23s 3ms/step - loss: 0.7235 - binary_accuracy: 0.5000 - val_loss: 0.7091 - val_binary_accuracy: 0.5015\n",
            "Epoch 18/40\n",
            "6738/6738 [==============================] - 23s 3ms/step - loss: 0.7208 - binary_accuracy: 0.4992 - val_loss: 0.7009 - val_binary_accuracy: 0.4999\n",
            "Epoch 19/40\n",
            "6738/6738 [==============================] - 23s 3ms/step - loss: 0.7270 - binary_accuracy: 0.5005 - val_loss: 0.7227 - val_binary_accuracy: 0.5010\n",
            "Epoch 20/40\n",
            "6738/6738 [==============================] - 23s 3ms/step - loss: 0.7216 - binary_accuracy: 0.5016 - val_loss: 0.7017 - val_binary_accuracy: 0.5014\n",
            "Epoch 21/40\n",
            "6738/6738 [==============================] - 23s 3ms/step - loss: 0.7217 - binary_accuracy: 0.4993 - val_loss: 0.7046 - val_binary_accuracy: 0.4992\n",
            "Epoch 22/40\n",
            "6738/6738 [==============================] - 21s 3ms/step - loss: 0.7196 - binary_accuracy: 0.5019 - val_loss: 0.7013 - val_binary_accuracy: 0.5020\n",
            "Epoch 23/40\n",
            "6738/6738 [==============================] - 23s 3ms/step - loss: 0.7209 - binary_accuracy: 0.4995 - val_loss: 0.7044 - val_binary_accuracy: 0.5013\n",
            "Epoch 24/40\n",
            "6738/6738 [==============================] - 23s 3ms/step - loss: 0.7215 - binary_accuracy: 0.5022 - val_loss: 0.7226 - val_binary_accuracy: 0.4987\n",
            "Epoch 25/40\n",
            "6738/6738 [==============================] - 21s 3ms/step - loss: 0.7222 - binary_accuracy: 0.5023 - val_loss: 0.7709 - val_binary_accuracy: 0.4987\n",
            "Epoch 26/40\n",
            "6738/6738 [==============================] - 21s 3ms/step - loss: 0.7244 - binary_accuracy: 0.5014 - val_loss: 0.7123 - val_binary_accuracy: 0.4989\n",
            "Epoch 27/40\n",
            "6738/6738 [==============================] - 21s 3ms/step - loss: 0.7202 - binary_accuracy: 0.5015 - val_loss: 0.7030 - val_binary_accuracy: 0.4984\n",
            "Epoch 28/40\n",
            "6738/6738 [==============================] - 21s 3ms/step - loss: 0.7213 - binary_accuracy: 0.4998 - val_loss: 0.7014 - val_binary_accuracy: 0.5021\n",
            "Epoch 29/40\n",
            "6738/6738 [==============================] - 23s 3ms/step - loss: 0.7232 - binary_accuracy: 0.5009 - val_loss: 0.7016 - val_binary_accuracy: 0.5001\n",
            "Epoch 30/40\n",
            "6738/6738 [==============================] - 21s 3ms/step - loss: 0.7219 - binary_accuracy: 0.5015 - val_loss: 0.7042 - val_binary_accuracy: 0.4985\n",
            "Epoch 31/40\n",
            "6738/6738 [==============================] - 21s 3ms/step - loss: 0.7190 - binary_accuracy: 0.5009 - val_loss: 0.7124 - val_binary_accuracy: 0.4984\n",
            "Epoch 32/40\n",
            "6738/6738 [==============================] - 21s 3ms/step - loss: 0.7226 - binary_accuracy: 0.4994 - val_loss: 0.7012 - val_binary_accuracy: 0.5000\n",
            "Epoch 33/40\n",
            "6738/6738 [==============================] - 21s 3ms/step - loss: 0.7193 - binary_accuracy: 0.4990 - val_loss: 0.7025 - val_binary_accuracy: 0.4982\n",
            "Epoch 34/40\n",
            "6738/6738 [==============================] - 23s 3ms/step - loss: 0.7219 - binary_accuracy: 0.5017 - val_loss: 0.7060 - val_binary_accuracy: 0.5004\n",
            "Epoch 35/40\n",
            "6738/6738 [==============================] - 21s 3ms/step - loss: 0.7207 - binary_accuracy: 0.4997 - val_loss: 0.7003 - val_binary_accuracy: 0.4995\n",
            "Epoch 36/40\n",
            "6738/6738 [==============================] - 21s 3ms/step - loss: 0.7211 - binary_accuracy: 0.4985 - val_loss: 0.7506 - val_binary_accuracy: 0.4987\n",
            "Epoch 37/40\n",
            "6738/6738 [==============================] - 23s 3ms/step - loss: 0.7234 - binary_accuracy: 0.4999 - val_loss: 0.7329 - val_binary_accuracy: 0.4986\n",
            "Epoch 38/40\n",
            "6738/6738 [==============================] - 21s 3ms/step - loss: 0.7202 - binary_accuracy: 0.4995 - val_loss: 0.7025 - val_binary_accuracy: 0.4999\n",
            "Epoch 39/40\n",
            "6738/6738 [==============================] - 23s 3ms/step - loss: 0.7260 - binary_accuracy: 0.4991 - val_loss: 0.7016 - val_binary_accuracy: 0.4997\n",
            "Epoch 40/40\n",
            "6738/6738 [==============================] - 23s 3ms/step - loss: 0.7241 - binary_accuracy: 0.5015 - val_loss: 0.7210 - val_binary_accuracy: 0.5013\n"
          ],
          "name": "stdout"
        }
      ]
    },
    {
      "cell_type": "code",
      "metadata": {
        "id": "FTpP_gJwWd3g"
      },
      "source": [
        "import matplotlib\n",
        "import matplotlib.pyplot as plt\n",
        "%matplotlib inline\n",
        "\n",
        "\n",
        "def plot(args, labels, x_label: str = None, y_label: str = None, tag: str = None, path: str = '.', show=True):\n",
        "    for arg, label in zip(args, labels):\n",
        "        epochs = [i+1 for i in range(len(arg))]\n",
        "        plt.plot(epochs, arg, label=label)\n",
        "\n",
        "    if y_label:\n",
        "        plt.ylabel(y_label)\n",
        "    if x_label:\n",
        "        plt.xlabel(x_label)\n",
        "\n",
        "    if tag:\n",
        "        plt.title(tag)\n",
        "\n",
        "    plt.legend()\n",
        "    if path:\n",
        "        plt.savefig(path)\n",
        "    if show:\n",
        "      plt.show()"
      ],
      "execution_count": null,
      "outputs": []
    },
    {
      "cell_type": "code",
      "metadata": {
        "colab": {
          "base_uri": "https://localhost:8080/"
        },
        "id": "OcszFugHaSWi",
        "outputId": "066e4f45-2ddb-4879-f7cb-bce3b7bf0a68"
      },
      "source": [
        "print(history.history.keys())\n",
        "data = history.history"
      ],
      "execution_count": null,
      "outputs": [
        {
          "output_type": "stream",
          "text": [
            "dict_keys(['loss', 'binary_accuracy', 'val_loss', 'val_binary_accuracy'])\n"
          ],
          "name": "stdout"
        }
      ]
    },
    {
      "cell_type": "code",
      "metadata": {
        "colab": {
          "base_uri": "https://localhost:8080/",
          "height": 313
        },
        "id": "zxK2Wn3wPrWP",
        "outputId": "dbfd1707-1e4f-4ae0-8db0-d767cfd4a744"
      },
      "source": [
        "print(f\"Final Train Acc = {data['binary_accuracy'][-1]}\")\n",
        "print(f\"Final Test Acc = {data['val_binary_accuracy'][-1]}\")\n",
        "plot([data['binary_accuracy'], data['val_binary_accuracy']], ['Train Acc.', 'Test Acc.'], x_label='EPOCHS', y_label='Accuracy')"
      ],
      "execution_count": null,
      "outputs": [
        {
          "output_type": "stream",
          "text": [
            "Final Train Acc = 0.5014563798904419\n",
            "Final Test Acc = 0.5012770295143127\n"
          ],
          "name": "stdout"
        },
        {
          "output_type": "display_data",
          "data": {
            "image/png": "[encoded data removed]",
            "text/plain": [
              "<Figure size 432x288 with 1 Axes>"
            ]
          },
          "metadata": {
            "tags": [],
            "needs_background": "light"
          }
        }
      ]
    },
    {
      "cell_type": "code",
      "metadata": {
        "colab": {
          "base_uri": "https://localhost:8080/",
          "height": 313
        },
        "id": "KSiwdRb8PsEl",
        "outputId": "efba1298-0123-41fa-95ee-1b6a46995248"
      },
      "source": [
        "print(f\"Final Train Loss = {data['loss'][-1]}\")\n",
        "print(f\"Final Test Loss = {data['val_loss'][-1]}\")\n",
        "plot([data['loss'], data['val_loss']], ['Train Loss', 'Test Loss'], x_label='EPOCHS', y_label='LOSS')"
      ],
      "execution_count": null,
      "outputs": [
        {
          "output_type": "stream",
          "text": [
            "Final Train Loss = 0.7240574359893799\n",
            "Final Test Loss = 0.7210254073143005\n"
          ],
          "name": "stdout"
        },
        {
          "output_type": "display_data",
          "data": {
            "image/png": "[encoded data removed]",
            "text/plain": [
              "<Figure size 432x288 with 1 Axes>"
            ]
          },
          "metadata": {
            "tags": [],
            "needs_background": "light"
          }
        }
      ]
    },
    {
      "cell_type": "code",
      "metadata": {
        "id": "eeeWV2P1We0r"
      },
      "source": [
        "from keras.layers import  Input, Embedding, Dense, LSTM\n",
        "from keras.models import Model\n",
        "import keras\n",
        "import keras.utils"
      ],
      "execution_count": null,
      "outputs": []
    },
    {
      "cell_type": "code",
      "metadata": {
        "colab": {
          "base_uri": "https://localhost:8080/"
        },
        "id": "aqQvxZRUWfxP",
        "outputId": "3f478851-26e4-4057-85cd-0d1d598a120f"
      },
      "source": [
        "model_n = keras.models.Sequential()\n",
        "\n",
        "model_n.add(keras.layers.LSTM(units=32, batch_input_shape=(16, 41, 4), return_sequences=True))\n",
        "model_n.add(keras.layers.LSTM(units=64, return_sequences=False))\n",
        "model_n.add(Dense(units=1, activation='sigmoid'))\n",
        "model_n.summary()\n"
      ],
      "execution_count": null,
      "outputs": [
        {
          "output_type": "stream",
          "text": [
            "Model: \"sequential_1\"\n",
            "_________________________________________________________________\n",
            "Layer (type)                 Output Shape              Param #   \n",
            "=================================================================\n",
            "lstm_2 (LSTM)                (16, 41, 32)              4736      \n",
            "_________________________________________________________________\n",
            "lstm_3 (LSTM)                (16, 64)                  24832     \n",
            "_________________________________________________________________\n",
            "dense_3 (Dense)              (16, 1)                   65        \n",
            "=================================================================\n",
            "Total params: 29,633\n",
            "Trainable params: 29,633\n",
            "Non-trainable params: 0\n",
            "_________________________________________________________________\n"
          ],
          "name": "stdout"
        }
      ]
    },
    {
      "cell_type": "code",
      "metadata": {
        "id": "cPRlteGlWfkR"
      },
      "source": [
        "model_n.compile(loss='binary_crossentropy',\n",
        "              optimizer='rmsprop',\n",
        "              metrics=['accuracy'])"
      ],
      "execution_count": null,
      "outputs": []
    },
    {
      "cell_type": "code",
      "metadata": {
        "colab": {
          "base_uri": "https://localhost:8080/"
        },
        "id": "UCorwWPOWzzm",
        "outputId": "870a0779-ac73-479e-dba6-4a638020c235"
      },
      "source": [
        "hist_ = model_n.fit(train_x, train_y,\n",
        "          batch_size=16, epochs=10,\n",
        "          validation_data=(test_x, test_y))"
      ],
      "execution_count": null,
      "outputs": [
        {
          "output_type": "stream",
          "text": [
            "Epoch 1/10\n",
            "13475/13475 [==============================] - 336s 25ms/step - loss: 0.6936 - accuracy: 0.5002 - val_loss: 0.6932 - val_accuracy: 0.5013\n",
            "Epoch 2/10\n",
            "13475/13475 [==============================] - 331s 25ms/step - loss: 0.6932 - accuracy: 0.4995 - val_loss: 0.6936 - val_accuracy: 0.4987\n",
            "Epoch 3/10\n",
            "13475/13475 [==============================] - 331s 25ms/step - loss: 0.6932 - accuracy: 0.4997 - val_loss: 0.6932 - val_accuracy: 0.4987\n",
            "Epoch 4/10\n",
            "13475/13475 [==============================] - 329s 24ms/step - loss: 0.6932 - accuracy: 0.4985 - val_loss: 0.6932 - val_accuracy: 0.4987\n",
            "Epoch 5/10\n",
            "13475/13475 [==============================] - 332s 25ms/step - loss: 0.6932 - accuracy: 0.4990 - val_loss: 0.6932 - val_accuracy: 0.4987\n",
            "Epoch 6/10\n",
            "13475/13475 [==============================] - 330s 24ms/step - loss: 0.6932 - accuracy: 0.4997 - val_loss: 0.6932 - val_accuracy: 0.4974\n",
            "Epoch 7/10\n",
            "13475/13475 [==============================] - 332s 25ms/step - loss: 0.6932 - accuracy: 0.5030 - val_loss: 0.6932 - val_accuracy: 0.4964\n",
            "Epoch 8/10\n",
            "13475/13475 [==============================] - 333s 25ms/step - loss: 0.6932 - accuracy: 0.5004 - val_loss: 0.6932 - val_accuracy: 0.4973\n",
            "Epoch 9/10\n",
            "13475/13475 [==============================] - 332s 25ms/step - loss: 0.6931 - accuracy: 0.5025 - val_loss: 0.6933 - val_accuracy: 0.4978\n",
            "Epoch 10/10\n",
            "13475/13475 [==============================] - 330s 24ms/step - loss: 0.6931 - accuracy: 0.5069 - val_loss: 0.6932 - val_accuracy: 0.4973\n"
          ],
          "name": "stdout"
        }
      ]
    },
    {
      "cell_type": "code",
      "metadata": {
        "colab": {
          "base_uri": "https://localhost:8080/"
        },
        "id": "lEHyhSYbWzrt",
        "outputId": "37c2e1bb-cc55-4505-b679-9417a463f0d7"
      },
      "source": [
        "print(hist_.history.keys())\n",
        "data_n = hist_.history"
      ],
      "execution_count": null,
      "outputs": [
        {
          "output_type": "stream",
          "text": [
            "dict_keys(['loss', 'accuracy', 'val_loss', 'val_accuracy'])\n"
          ],
          "name": "stdout"
        }
      ]
    },
    {
      "cell_type": "code",
      "metadata": {
        "colab": {
          "base_uri": "https://localhost:8080/",
          "height": 313
        },
        "id": "QcWyNj2wWzj6",
        "outputId": "715b1c81-dcfb-4051-a7df-da2964d0c758"
      },
      "source": [
        "print(f\"Final Train Acc = {data_n['accuracy'][-1]}\")\n",
        "print(f\"Final Test Acc = {data_n['val_accuracy'][-1]}\")\n",
        "plot([data_n['accuracy'], data_n['val_accuracy']], ['Train Acc.', 'Test Acc.'], x_label='EPOCHS', y_label='Accuracy')"
      ],
      "execution_count": null,
      "outputs": [
        {
          "output_type": "stream",
          "text": [
            "Final Train Acc = 0.5039888620376587\n",
            "Final Test Acc = 0.4972619116306305\n"
          ],
          "name": "stdout"
        },
        {
          "output_type": "display_data",
          "data": {
            "image/png": "[encoded data removed]",
            "text/plain": [
              "<Figure size 432x288 with 1 Axes>"
            ]
          },
          "metadata": {
            "tags": [],
            "needs_background": "light"
          }
        }
      ]
    },
    {
      "cell_type": "code",
      "metadata": {
        "colab": {
          "base_uri": "https://localhost:8080/",
          "height": 313
        },
        "id": "nQfQ6mOrWzbV",
        "outputId": "5236c87b-a0fc-4da6-9f64-dd89d438c9ad"
      },
      "source": [
        "print(f\"Final Train Loss = {data['loss'][-1]}\")\n",
        "print(f\"Final Test Loss = {data['val_loss'][-1]}\")\n",
        "plot([data['loss'], data['val_loss']], ['Train Loss', 'Test Loss'], x_label='EPOCHS', y_label='LOSS')"
      ],
      "execution_count": null,
      "outputs": [
        {
          "output_type": "stream",
          "text": [
            "Final Train Loss = 0.7240574359893799\n",
            "Final Test Loss = 0.7210254073143005\n"
          ],
          "name": "stdout"
        },
        {
          "output_type": "display_data",
          "data": {
            "image/png": "[encoded data removed]",
            "text/plain": [
              "<Figure size 432x288 with 1 Axes>"
            ]
          },
          "metadata": {
            "tags": [],
            "needs_background": "light"
          }
        }
      ]
    },
    {
      "cell_type": "code",
      "metadata": {
        "id": "lRoOABVrWzSB"
      },
      "source": [
        ""
      ],
      "execution_count": null,
      "outputs": []
    }
  ]
}