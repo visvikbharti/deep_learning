{
  "nbformat": 4,
  "nbformat_minor": 0,
  "metadata": {
    "colab": {
      "name": "Rice6mA.ipynb",
      "provenance": [],
      "collapsed_sections": [],
      "authorship_tag": "ABX9TyO22NUr9fXtdOnzWI0M09f3"
    },
    "kernelspec": {
      "name": "python3",
      "display_name": "Python 3"
    },
    "language_info": {
      "name": "python"
    }
  },
  "cells": [
    {
      "cell_type": "markdown",
      "metadata": {
        "id": "C4QZaZznmH9U"
      },
      "source": [
        "##**Predicting DNA N6-Methyladenine Sites in Rice Genome**"
      ]
    },
    {
      "cell_type": "markdown",
      "metadata": {
        "id": "oMENOFJqmQ--"
      },
      "source": [
        "#**Dataset**\n",
        "\n",
        "The first dataset is the 6mA-rice-Chen dataset (Chen et al., 2019), which was widely used by previous studies (Basith et al., 2019; Chen et al., 2019; Pian et al., 2019; Tahir et al., 2019). The **6mA-rice-Chen** dataset contains 880 positive samples and 880 negative samples. The second dataset we used is the **6mA-rice-Lv dataset** (Lv et al., 2019). The 6mA-rice-Lv dataset contains 154,000 positive samples and 154,000 negative samples. DNA sequences in both positive samples and negative samples are 41 bp long. For each positive sequence, its center is the 6mA modification site. For each negative sequence, its center contains no 6mA modification site. By using these two widely used datasets, we can compare our method with previous methods fairly.\n",
        "\n"
      ]
    },
    {
      "cell_type": "markdown",
      "metadata": {
        "id": "s7ufAfS8mspF"
      },
      "source": [
        "#**Training for the second dataset named 6mA rice_chain dataset.**"
      ]
    },
    {
      "cell_type": "code",
      "metadata": {
        "id": "cbp9SzqyNQlg"
      },
      "source": [
        "import numpy as np\n"
      ],
      "execution_count": null,
      "outputs": []
    },
    {
      "cell_type": "code",
      "metadata": {
        "id": "EBPZpPF-Rxjr"
      },
      "source": [
        "with open('/content/data/rice_chain/rice_chain_neg') as f:\n",
        "  data = f.readlines()\n",
        "  "
      ],
      "execution_count": null,
      "outputs": []
    },
    {
      "cell_type": "code",
      "metadata": {
        "id": "0-oXGFgiSgN-"
      },
      "source": [
        "data_tuple =[(d.split(',')[0], d.split(',')[-1].strip()) for d in data]"
      ],
      "execution_count": null,
      "outputs": []
    },
    {
      "cell_type": "code",
      "metadata": {
        "id": "BdH0ozgrUwpq"
      },
      "source": [
        "xx = [val[0] for val in data_tuple]\n",
        "yy = [val[1] for val in data_tuple]"
      ],
      "execution_count": null,
      "outputs": []
    },
    {
      "cell_type": "code",
      "metadata": {
        "id": "jiRJKC0EW12p"
      },
      "source": [
        "with open('/content/data/rice_chain/rice_chain_pos') as f:\n",
        "  data1 = f.readlines()\n",
        "\n",
        "data_tuple1 =[(d.split(',')[0], d.split(',')[-1].strip()) for d in data1]"
      ],
      "execution_count": null,
      "outputs": []
    },
    {
      "cell_type": "code",
      "metadata": {
        "id": "q0t18H3hXpM6"
      },
      "source": [
        "xx1 = [val[0] for val in data_tuple1]\n",
        "yy1 = [val[1] for val in data_tuple1]"
      ],
      "execution_count": null,
      "outputs": []
    },
    {
      "cell_type": "code",
      "metadata": {
        "id": "C262nMvaaqLh"
      },
      "source": [
        "from sklearn.model_selection import train_test_split\n",
        "import tensorflow as tf"
      ],
      "execution_count": null,
      "outputs": []
    },
    {
      "cell_type": "code",
      "metadata": {
        "id": "SGkVqUAvc7TW"
      },
      "source": [
        "x = xx1[1:]+xx[1:]\n",
        "y = yy1[1:] + yy[1:]"
      ],
      "execution_count": null,
      "outputs": []
    },
    {
      "cell_type": "code",
      "metadata": {
        "id": "ktIRGeosMFI1"
      },
      "source": [
        "#Shuffling the data\n",
        "for i in range(len(y)-1, 0, -1):\n",
        "     \n",
        "    # Pick a random index from 0 to i\n",
        "    j = random.randint(0, i + 1)\n",
        "   \n",
        "    # Swap arr[i] with the element at random index\n",
        "    y[i], y[j] = y[j], y[i]\n",
        "     "
      ],
      "execution_count": null,
      "outputs": []
    },
    {
      "cell_type": "code",
      "metadata": {
        "id": "dgjZXkMuMoTm"
      },
      "source": [
        "#Shuffling the data\n",
        "for i in range(len(x)-1, 0, -1):\n",
        "     \n",
        "    # Pick a random index from 0 to i\n",
        "    j = random.randint(0, i + 1)\n",
        "   \n",
        "    # Swap arr[i] with the element at random index\n",
        "    x[i], x[j] = x[j], x[i]"
      ],
      "execution_count": null,
      "outputs": []
    },
    {
      "cell_type": "code",
      "metadata": {
        "colab": {
          "base_uri": "https://localhost:8080/"
        },
        "id": "wB2y6dtUdSIk",
        "outputId": "722f0b5b-a0b1-472d-ad7f-f14e63487fe0"
      },
      "source": [
        "# creating one hot encoded values for each class in y\n",
        "classes = list(set(y))\n",
        "#encoded_y = tf.one_hot(range(len(classes)), depth=len(classes))\n",
        "\n",
        "# creating one hot encoded values for each symbol in x\n",
        "primary_symbols = ['A', 'G', 'C', 'T']\n",
        "derived_symbols = ['D', 'S', 'R', 'N']\n",
        "symbols = primary_symbols + derived_symbols\n",
        "\n",
        "## symbol representing equal probability of primary symbols occurence\n",
        "symbol_occ_map = {\n",
        "    'D': ['A', 'G', 'T'],\n",
        "    'S': ['C', 'G'],\n",
        "    'R': ['A', 'G'],\n",
        "    'N': ['A', 'G', 'C', 'T']\n",
        "}\n",
        "\n",
        "encoded_sym = tf.one_hot(range(len(primary_symbols)), depth=len(primary_symbols))\n",
        "\n",
        "symbol_map = {sym:encoded_sym[idx] for idx, sym in enumerate(primary_symbols)}\n",
        "\n",
        "for sym in derived_symbols:\n",
        "  symbol_map[sym] = np.sum([symbol_map[p_sym] for p_sym in symbol_occ_map[sym]], axis=0)\n",
        "\n",
        "for sym in symbols:\n",
        "    print(f\"{sym} -> {symbol_map[sym]}\")\n",
        "\n",
        "# mapping class/symbol names to their hot encoded values\n",
        "class_map = {class_:encoded_y[idx] for idx, class_ in enumerate(classes)}\n",
        "\n",
        "\n",
        "print(f\"symbols: {symbols}\")\n",
        "print(f\"Encoded symbol: {encoded_sym}\")\n",
        "\n",
        "print(f\"classes: {classes}\")\n",
        "print(f\"Encoded classes: {encoded_y}\")\n",
        "\n"
      ],
      "execution_count": null,
      "outputs": [
        {
          "output_type": "stream",
          "text": [
            "A -> [1. 0. 0. 0.]\n",
            "G -> [0. 1. 0. 0.]\n",
            "C -> [0. 0. 1. 0.]\n",
            "T -> [0. 0. 0. 1.]\n",
            "D -> [1. 1. 0. 1.]\n",
            "S -> [0. 1. 1. 0.]\n",
            "R -> [1. 1. 0. 0.]\n",
            "N -> [1. 1. 1. 1.]\n",
            "symbols: ['A', 'G', 'C', 'T', 'D', 'S', 'R', 'N']\n",
            "Encoded symbol: [[1. 0. 0. 0.]\n",
            " [0. 1. 0. 0.]\n",
            " [0. 0. 1. 0.]\n",
            " [0. 0. 0. 1.]]\n",
            "classes: ['1', '0']\n",
            "Encoded classes: [[1. 0.]\n",
            " [0. 1.]]\n"
          ],
          "name": "stdout"
        }
      ]
    },
    {
      "cell_type": "code",
      "metadata": {
        "id": "r1UFWuoBeqcO"
      },
      "source": [
        "# to get symbol representation of sequence from one hot encoded values\n",
        "to_symbol = lambda hot_encoded: \"\".join([symbols[idx] for idx in tf.argmax(hot_encoded, axis=1)])\n",
        "\n",
        "\n",
        "def test_same(sample_val):\n",
        "  sample_val = x[1293]\n",
        "  sample_encoded = [symbol_map[char] for char in sample_val]\n",
        "  reversed = to_symbol(sample_encoded)\n",
        "  return sample_val == reversed"
      ],
      "execution_count": null,
      "outputs": []
    },
    {
      "cell_type": "code",
      "metadata": {
        "colab": {
          "base_uri": "https://localhost:8080/"
        },
        "id": "Vy_0mbCafUC0",
        "outputId": "19ee5a55-7f86-4e7a-84e1-a7a398e566ff"
      },
      "source": [
        "X = np.array([[symbol_map[char] for char in sequence] for sequence in x])\n",
        "Y = np.array([class_map[class_] for class_ in y])\n",
        "print(f\"X : {X.shape}\")\n",
        "print(f\"Y : {Y.shape}\")"
      ],
      "execution_count": null,
      "outputs": [
        {
          "output_type": "stream",
          "text": [
            "X : (1760, 41, 4)\n",
            "Y : (1760, 2)\n"
          ],
          "name": "stdout"
        }
      ]
    },
    {
      "cell_type": "code",
      "metadata": {
        "id": "V7x06DvtqXEQ"
      },
      "source": [
        "Y=Y[:, 0:1]"
      ],
      "execution_count": null,
      "outputs": []
    },
    {
      "cell_type": "code",
      "metadata": {
        "colab": {
          "base_uri": "https://localhost:8080/"
        },
        "id": "Uj3hK2iHfrXZ",
        "outputId": "70069e2f-1c8e-4310-b4f4-1d7f0537d64b"
      },
      "source": [
        "# splitting data into train, test\n",
        "train_x, test_x, train_y, test_y = train_test_split(X, Y, test_size=0.2, random_state=21)\n",
        "print(f\"Train X : {train_x.shape}\")\n",
        "print(f\"Test X : {test_x.shape}\")\n",
        "print(f\"Train Y : {train_y.shape}\")\n",
        "print(f\"Test Y : {test_y.shape}\")\n"
      ],
      "execution_count": null,
      "outputs": [
        {
          "output_type": "stream",
          "text": [
            "Train X : (1408, 41, 4)\n",
            "Test X : (352, 41, 4)\n",
            "Train Y : (1408, 1)\n",
            "Test Y : (352, 1)\n"
          ],
          "name": "stdout"
        }
      ]
    },
    {
      "cell_type": "code",
      "metadata": {
        "id": "MqPYDZbaf_Dw"
      },
      "source": [
        "\n",
        "import matplotlib as mpl\n",
        "mpl.use('Agg')\n",
        "\n",
        "from keras.models import Model\n",
        "from keras.layers import Dense, Dropout, Conv1D, Input,MaxPooling1D,Flatten,LeakyReLU\n",
        "from keras.layers.normalization import BatchNormalization\n",
        "from keras.optimizers import SGD,Adam\n",
        "import random\n",
        "import pandas as pd \n",
        "import numpy as np\n",
        "from keras import regularizers\n",
        "from keras.metrics import binary_accuracy\n",
        "from sklearn.metrics import confusion_matrix,recall_score,matthews_corrcoef,roc_curve,roc_auc_score,auc\n",
        "import matplotlib.pyplot as plt\n",
        "from keras.callbacks import EarlyStopping, ModelCheckpoint,ReduceLROnPlateau\n",
        "import os, sys, copy, getopt, re, argparse\n",
        "from sklearn.metrics import precision_recall_fscore_support\n",
        "import tensorflow as tf\n",
        "from keras import losses\n",
        "import pickle\n",
        "\n",
        "from scipy import interp"
      ],
      "execution_count": null,
      "outputs": []
    },
    {
      "cell_type": "code",
      "metadata": {
        "id": "wCv08IxaiBx9"
      },
      "source": [
        "def getMode():\n",
        "\n",
        "    input_shape = (41,4)\n",
        "\n",
        "    inputs = Input(shape = input_shape)\n",
        "\n",
        "    convLayer = Conv1D(filters = 16, kernel_size = 4,activation = 'relu',input_shape = input_shape, kernel_regularizer = regularizers.l2(1e-4), bias_regularizer = regularizers.l2(1e-4))(inputs);\n",
        "    normalizationLayer = tfa.layers.GroupNormalization(groups = 4,axis=-1)(convLayer)\n",
        "    #normalizationLayer = BatchNormalization()(convLayer);\n",
        "    poolingLayer = MaxPooling1D(pool_size = 4)(normalizationLayer)\n",
        "    flattenLayer = Flatten()(poolingLayer)\n",
        "\n",
        "    dropoutLayer = Dropout(0.25)(flattenLayer)\n",
        "    denseLayer = Dense(32, activation = 'elu',kernel_regularizer = regularizers.l2(1e-4),bias_regularizer = regularizers.l2(1e-4))(dropoutLayer)\n",
        "    outLayer = Dense(1, activation='sigmoid')(denseLayer)\n",
        "\n",
        "    model = Model(inputs = inputs, outputs = outLayer)\n",
        "    model.compile(loss='binary_crossentropy', optimizer= SGD(momentum =0.95, lr = 0.05), metrics=[binary_accuracy]);\n",
        "\n",
        "    print(model.summary())\n",
        "\n",
        "    return model;"
      ],
      "execution_count": null,
      "outputs": []
    },
    {
      "cell_type": "code",
      "metadata": {
        "id": "G3T6pWv6i7yu"
      },
      "source": [
        "import tensorflow_addons as tfa"
      ],
      "execution_count": null,
      "outputs": []
    },
    {
      "cell_type": "code",
      "metadata": {
        "colab": {
          "base_uri": "https://localhost:8080/"
        },
        "id": "3Ix4UqIuleY5",
        "outputId": "18cfe7d6-b794-4c60-bb80-93ff72223ef9"
      },
      "source": [
        "model = getMode()"
      ],
      "execution_count": null,
      "outputs": [
        {
          "output_type": "stream",
          "text": [
            "Model: \"model_12\"\n",
            "__________________________________________________________________________________________________\n",
            "Layer (type)                    Output Shape         Param #     Connected to                     \n",
            "==================================================================================================\n",
            "input_14 (InputLayer)           [(None, 41, 4)]      0                                            \n",
            "__________________________________________________________________________________________________\n",
            "conv1d_13 (Conv1D)              (None, 38, 16)       272         input_14[0][0]                   \n",
            "__________________________________________________________________________________________________\n",
            "tf.compat.v1.shape_12 (TFOpLamb (3,)                 0           conv1d_13[0][0]                  \n",
            "__________________________________________________________________________________________________\n",
            "tf.__operators__.getitem_36 (Sl ()                   0           tf.compat.v1.shape_12[0][0]      \n",
            "__________________________________________________________________________________________________\n",
            "tf.__operators__.getitem_37 (Sl ()                   0           tf.compat.v1.shape_12[0][0]      \n",
            "__________________________________________________________________________________________________\n",
            "tf.stack_12 (TFOpLambda)        (4,)                 0           tf.__operators__.getitem_36[0][0]\n",
            "                                                                 tf.__operators__.getitem_37[0][0]\n",
            "__________________________________________________________________________________________________\n",
            "tf.reshape_24 (TFOpLambda)      (None, None, 4, 4)   0           conv1d_13[0][0]                  \n",
            "                                                                 tf.stack_12[0][0]                \n",
            "__________________________________________________________________________________________________\n",
            "tf.math.reduce_mean_24 (TFOpLam (None, 1, 4, 1)      0           tf.reshape_24[0][0]              \n",
            "__________________________________________________________________________________________________\n",
            "tf.stop_gradient_12 (TFOpLambda (None, 1, 4, 1)      0           tf.math.reduce_mean_24[0][0]     \n",
            "__________________________________________________________________________________________________\n",
            "tf.math.squared_difference_12 ( (None, None, 4, 4)   0           tf.reshape_24[0][0]              \n",
            "                                                                 tf.stop_gradient_12[0][0]        \n",
            "__________________________________________________________________________________________________\n",
            "tf.math.reduce_mean_25 (TFOpLam (None, 1, 4, 1)      0           tf.math.squared_difference_12[0][\n",
            "__________________________________________________________________________________________________\n",
            "tf.__operators__.add_24 (TFOpLa (None, 1, 4, 1)      0           tf.math.reduce_mean_25[0][0]     \n",
            "__________________________________________________________________________________________________\n",
            "tf.math.rsqrt_12 (TFOpLambda)   (None, 1, 4, 1)      0           tf.__operators__.add_24[0][0]    \n",
            "__________________________________________________________________________________________________\n",
            "tf.math.multiply_36 (TFOpLambda (None, 1, 4, 4)      0           tf.math.rsqrt_12[0][0]           \n",
            "__________________________________________________________________________________________________\n",
            "tf.math.multiply_38 (TFOpLambda (None, 1, 4, 4)      0           tf.math.reduce_mean_24[0][0]     \n",
            "                                                                 tf.math.multiply_36[0][0]        \n",
            "__________________________________________________________________________________________________\n",
            "tf.cast_24 (TFOpLambda)         (None, 1, 4, 4)      0           tf.math.multiply_36[0][0]        \n",
            "__________________________________________________________________________________________________\n",
            "tf.math.subtract_12 (TFOpLambda (None, 1, 4, 4)      0           tf.math.multiply_38[0][0]        \n",
            "__________________________________________________________________________________________________\n",
            "tf.math.multiply_37 (TFOpLambda (None, None, 4, 4)   0           tf.reshape_24[0][0]              \n",
            "                                                                 tf.cast_24[0][0]                 \n",
            "__________________________________________________________________________________________________\n",
            "tf.cast_25 (TFOpLambda)         (None, 1, 4, 4)      0           tf.math.subtract_12[0][0]        \n",
            "__________________________________________________________________________________________________\n",
            "tf.__operators__.add_25 (TFOpLa (None, None, 4, 4)   0           tf.math.multiply_37[0][0]        \n",
            "                                                                 tf.cast_25[0][0]                 \n",
            "__________________________________________________________________________________________________\n",
            "tf.reshape_25 (TFOpLambda)      (None, 38, 16)       0           tf.__operators__.add_25[0][0]    \n",
            "                                                                 tf.compat.v1.shape_12[0][0]      \n",
            "__________________________________________________________________________________________________\n",
            "max_pooling1d_12 (MaxPooling1D) (None, 9, 16)        0           tf.reshape_25[0][0]              \n",
            "__________________________________________________________________________________________________\n",
            "flatten_12 (Flatten)            (None, 144)          0           max_pooling1d_12[0][0]           \n",
            "__________________________________________________________________________________________________\n",
            "dropout_12 (Dropout)            (None, 144)          0           flatten_12[0][0]                 \n",
            "__________________________________________________________________________________________________\n",
            "dense_35 (Dense)                (None, 32)           4640        dropout_12[0][0]                 \n",
            "__________________________________________________________________________________________________\n",
            "dense_36 (Dense)                (None, 1)            33          dense_35[0][0]                   \n",
            "==================================================================================================\n",
            "Total params: 4,945\n",
            "Trainable params: 4,945\n",
            "Non-trainable params: 0\n",
            "__________________________________________________________________________________________________\n",
            "None\n"
          ],
          "name": "stdout"
        },
        {
          "output_type": "stream",
          "text": [
            "/usr/local/lib/python3.7/dist-packages/tensorflow/python/keras/optimizer_v2/optimizer_v2.py:375: UserWarning: The `lr` argument is deprecated, use `learning_rate` instead.\n",
            "  \"The `lr` argument is deprecated, use `learning_rate` instead.\")\n"
          ],
          "name": "stderr"
        }
      ]
    },
    {
      "cell_type": "code",
      "metadata": {
        "colab": {
          "base_uri": "https://localhost:8080/"
        },
        "id": "chXp0oIKlzrB",
        "outputId": "2a85e622-cdb6-4004-8b28-ccb11c67909a"
      },
      "source": [
        "history = model.fit(train_x, train_y, batch_size = 32, epochs = 100, validation_data = (test_x, test_y))"
      ],
      "execution_count": null,
      "outputs": [
        {
          "output_type": "stream",
          "text": [
            "Epoch 1/100\n",
            "44/44 [==============================] - 2s 16ms/step - loss: 0.8550 - binary_accuracy: 0.4849 - val_loss: 0.9891 - val_binary_accuracy: 0.4773\n",
            "Epoch 2/100\n",
            "44/44 [==============================] - 0s 4ms/step - loss: 0.8415 - binary_accuracy: 0.5140 - val_loss: 0.7069 - val_binary_accuracy: 0.5227\n",
            "Epoch 3/100\n",
            "44/44 [==============================] - 0s 4ms/step - loss: 0.8269 - binary_accuracy: 0.4804 - val_loss: 0.7073 - val_binary_accuracy: 0.4773\n",
            "Epoch 4/100\n",
            "44/44 [==============================] - 0s 4ms/step - loss: 0.7172 - binary_accuracy: 0.5394 - val_loss: 0.7028 - val_binary_accuracy: 0.5227\n",
            "Epoch 5/100\n",
            "44/44 [==============================] - 0s 4ms/step - loss: 0.7251 - binary_accuracy: 0.4996 - val_loss: 0.7076 - val_binary_accuracy: 0.4773\n",
            "Epoch 6/100\n",
            "44/44 [==============================] - 0s 4ms/step - loss: 0.7159 - binary_accuracy: 0.4743 - val_loss: 0.7062 - val_binary_accuracy: 0.5227\n",
            "Epoch 7/100\n",
            "44/44 [==============================] - 0s 4ms/step - loss: 0.7535 - binary_accuracy: 0.5296 - val_loss: 0.7543 - val_binary_accuracy: 0.4773\n",
            "Epoch 8/100\n",
            "44/44 [==============================] - 0s 4ms/step - loss: 0.7644 - binary_accuracy: 0.4733 - val_loss: 0.7055 - val_binary_accuracy: 0.5227\n",
            "Epoch 9/100\n",
            "44/44 [==============================] - 0s 4ms/step - loss: 0.7511 - binary_accuracy: 0.4957 - val_loss: 1.0549 - val_binary_accuracy: 0.4773\n",
            "Epoch 10/100\n",
            "44/44 [==============================] - 0s 4ms/step - loss: 0.7770 - binary_accuracy: 0.5208 - val_loss: 0.7016 - val_binary_accuracy: 0.5227\n",
            "Epoch 11/100\n",
            "44/44 [==============================] - 0s 4ms/step - loss: 0.7679 - binary_accuracy: 0.4899 - val_loss: 0.7259 - val_binary_accuracy: 0.5227\n",
            "Epoch 12/100\n",
            "44/44 [==============================] - 0s 4ms/step - loss: 0.7602 - binary_accuracy: 0.4991 - val_loss: 0.7095 - val_binary_accuracy: 0.4773\n",
            "Epoch 13/100\n",
            "44/44 [==============================] - 0s 4ms/step - loss: 0.7391 - binary_accuracy: 0.4989 - val_loss: 0.8209 - val_binary_accuracy: 0.4773\n",
            "Epoch 14/100\n",
            "44/44 [==============================] - 0s 4ms/step - loss: 0.7842 - binary_accuracy: 0.4845 - val_loss: 0.7961 - val_binary_accuracy: 0.5227\n",
            "Epoch 15/100\n",
            "44/44 [==============================] - 0s 4ms/step - loss: 0.7674 - binary_accuracy: 0.5041 - val_loss: 0.8492 - val_binary_accuracy: 0.4773\n",
            "Epoch 16/100\n",
            "44/44 [==============================] - 0s 4ms/step - loss: 0.8316 - binary_accuracy: 0.5105 - val_loss: 0.9500 - val_binary_accuracy: 0.5227\n",
            "Epoch 17/100\n",
            "44/44 [==============================] - 0s 4ms/step - loss: 0.8185 - binary_accuracy: 0.4925 - val_loss: 0.7110 - val_binary_accuracy: 0.4773\n",
            "Epoch 18/100\n",
            "44/44 [==============================] - 0s 4ms/step - loss: 0.7047 - binary_accuracy: 0.5360 - val_loss: 0.7037 - val_binary_accuracy: 0.4886\n",
            "Epoch 19/100\n",
            "44/44 [==============================] - 0s 4ms/step - loss: 0.7269 - binary_accuracy: 0.5212 - val_loss: 0.7090 - val_binary_accuracy: 0.5227\n",
            "Epoch 20/100\n",
            "44/44 [==============================] - 0s 4ms/step - loss: 0.8058 - binary_accuracy: 0.4941 - val_loss: 0.7292 - val_binary_accuracy: 0.5227\n",
            "Epoch 21/100\n",
            "44/44 [==============================] - 0s 4ms/step - loss: 0.7420 - binary_accuracy: 0.4905 - val_loss: 0.7622 - val_binary_accuracy: 0.4773\n",
            "Epoch 22/100\n",
            "44/44 [==============================] - 0s 4ms/step - loss: 0.7795 - binary_accuracy: 0.5137 - val_loss: 0.7667 - val_binary_accuracy: 0.4773\n",
            "Epoch 23/100\n",
            "44/44 [==============================] - 0s 4ms/step - loss: 0.8991 - binary_accuracy: 0.5055 - val_loss: 0.7212 - val_binary_accuracy: 0.4773\n",
            "Epoch 24/100\n",
            "44/44 [==============================] - 0s 4ms/step - loss: 0.7452 - binary_accuracy: 0.4960 - val_loss: 0.7177 - val_binary_accuracy: 0.5227\n",
            "Epoch 25/100\n",
            "44/44 [==============================] - 0s 5ms/step - loss: 0.8686 - binary_accuracy: 0.4826 - val_loss: 0.8715 - val_binary_accuracy: 0.4773\n",
            "Epoch 26/100\n",
            "44/44 [==============================] - 0s 4ms/step - loss: 0.9051 - binary_accuracy: 0.4996 - val_loss: 0.7004 - val_binary_accuracy: 0.5227\n",
            "Epoch 27/100\n",
            "44/44 [==============================] - 0s 4ms/step - loss: 0.8251 - binary_accuracy: 0.5129 - val_loss: 0.7048 - val_binary_accuracy: 0.5227\n",
            "Epoch 28/100\n",
            "44/44 [==============================] - 0s 4ms/step - loss: 0.7201 - binary_accuracy: 0.5042 - val_loss: 0.7063 - val_binary_accuracy: 0.5227\n",
            "Epoch 29/100\n",
            "44/44 [==============================] - 0s 4ms/step - loss: 0.7354 - binary_accuracy: 0.5018 - val_loss: 0.6999 - val_binary_accuracy: 0.5227\n",
            "Epoch 30/100\n",
            "44/44 [==============================] - 0s 4ms/step - loss: 0.7239 - binary_accuracy: 0.4646 - val_loss: 0.7349 - val_binary_accuracy: 0.5227\n",
            "Epoch 31/100\n",
            "44/44 [==============================] - 0s 4ms/step - loss: 0.7345 - binary_accuracy: 0.5094 - val_loss: 0.7238 - val_binary_accuracy: 0.5227\n",
            "Epoch 32/100\n",
            "44/44 [==============================] - 0s 4ms/step - loss: 0.7327 - binary_accuracy: 0.5038 - val_loss: 0.9464 - val_binary_accuracy: 0.5227\n",
            "Epoch 33/100\n",
            "44/44 [==============================] - 0s 4ms/step - loss: 0.7885 - binary_accuracy: 0.4825 - val_loss: 0.7192 - val_binary_accuracy: 0.4773\n",
            "Epoch 34/100\n",
            "44/44 [==============================] - 0s 4ms/step - loss: 0.8217 - binary_accuracy: 0.4743 - val_loss: 0.6992 - val_binary_accuracy: 0.5227\n",
            "Epoch 35/100\n",
            "44/44 [==============================] - 0s 4ms/step - loss: 0.7258 - binary_accuracy: 0.5130 - val_loss: 0.7172 - val_binary_accuracy: 0.5227\n",
            "Epoch 36/100\n",
            "44/44 [==============================] - 0s 4ms/step - loss: 0.7535 - binary_accuracy: 0.4875 - val_loss: 1.0050 - val_binary_accuracy: 0.4773\n",
            "Epoch 37/100\n",
            "44/44 [==============================] - 0s 4ms/step - loss: 0.8496 - binary_accuracy: 0.5152 - val_loss: 0.7100 - val_binary_accuracy: 0.5227\n",
            "Epoch 38/100\n",
            "44/44 [==============================] - 0s 4ms/step - loss: 0.7529 - binary_accuracy: 0.4504 - val_loss: 0.7116 - val_binary_accuracy: 0.4773\n",
            "Epoch 39/100\n",
            "44/44 [==============================] - 0s 5ms/step - loss: 0.7524 - binary_accuracy: 0.5041 - val_loss: 0.6979 - val_binary_accuracy: 0.5312\n",
            "Epoch 40/100\n",
            "44/44 [==============================] - 0s 4ms/step - loss: 0.7199 - binary_accuracy: 0.5245 - val_loss: 0.6988 - val_binary_accuracy: 0.5398\n",
            "Epoch 41/100\n",
            "44/44 [==============================] - 0s 4ms/step - loss: 0.7361 - binary_accuracy: 0.5297 - val_loss: 0.7221 - val_binary_accuracy: 0.5227\n",
            "Epoch 42/100\n",
            "44/44 [==============================] - 0s 4ms/step - loss: 0.7533 - binary_accuracy: 0.4722 - val_loss: 0.7403 - val_binary_accuracy: 0.4773\n",
            "Epoch 43/100\n",
            "44/44 [==============================] - 0s 4ms/step - loss: 0.7755 - binary_accuracy: 0.4999 - val_loss: 0.7112 - val_binary_accuracy: 0.4773\n",
            "Epoch 44/100\n",
            "44/44 [==============================] - 0s 4ms/step - loss: 0.7656 - binary_accuracy: 0.5080 - val_loss: 0.8125 - val_binary_accuracy: 0.4773\n",
            "Epoch 45/100\n",
            "44/44 [==============================] - 0s 4ms/step - loss: 0.7260 - binary_accuracy: 0.5498 - val_loss: 0.7096 - val_binary_accuracy: 0.5199\n",
            "Epoch 46/100\n",
            "44/44 [==============================] - 0s 4ms/step - loss: 0.7115 - binary_accuracy: 0.5146 - val_loss: 0.7070 - val_binary_accuracy: 0.4886\n",
            "Epoch 47/100\n",
            "44/44 [==============================] - 0s 4ms/step - loss: 0.7226 - binary_accuracy: 0.5280 - val_loss: 0.7075 - val_binary_accuracy: 0.4744\n",
            "Epoch 48/100\n",
            "44/44 [==============================] - 0s 4ms/step - loss: 0.7363 - binary_accuracy: 0.5171 - val_loss: 0.7240 - val_binary_accuracy: 0.5142\n",
            "Epoch 49/100\n",
            "44/44 [==============================] - 0s 4ms/step - loss: 0.7781 - binary_accuracy: 0.4927 - val_loss: 0.9997 - val_binary_accuracy: 0.4773\n",
            "Epoch 50/100\n",
            "44/44 [==============================] - 0s 4ms/step - loss: 0.7940 - binary_accuracy: 0.5142 - val_loss: 0.7116 - val_binary_accuracy: 0.5227\n",
            "Epoch 51/100\n",
            "44/44 [==============================] - 0s 4ms/step - loss: 0.7317 - binary_accuracy: 0.4954 - val_loss: 0.7183 - val_binary_accuracy: 0.4773\n",
            "Epoch 52/100\n",
            "44/44 [==============================] - 0s 4ms/step - loss: 0.7408 - binary_accuracy: 0.5098 - val_loss: 0.7218 - val_binary_accuracy: 0.4773\n",
            "Epoch 53/100\n",
            "44/44 [==============================] - 0s 4ms/step - loss: 0.9109 - binary_accuracy: 0.4922 - val_loss: 1.0863 - val_binary_accuracy: 0.4773\n",
            "Epoch 54/100\n",
            "44/44 [==============================] - 0s 4ms/step - loss: 0.8440 - binary_accuracy: 0.4912 - val_loss: 0.7601 - val_binary_accuracy: 0.4773\n",
            "Epoch 55/100\n",
            "44/44 [==============================] - 0s 4ms/step - loss: 0.7977 - binary_accuracy: 0.4945 - val_loss: 0.9292 - val_binary_accuracy: 0.5227\n",
            "Epoch 56/100\n",
            "44/44 [==============================] - 0s 4ms/step - loss: 0.8485 - binary_accuracy: 0.4865 - val_loss: 0.7096 - val_binary_accuracy: 0.5227\n",
            "Epoch 57/100\n",
            "44/44 [==============================] - 0s 4ms/step - loss: 0.8286 - binary_accuracy: 0.4874 - val_loss: 0.8036 - val_binary_accuracy: 0.4773\n",
            "Epoch 58/100\n",
            "44/44 [==============================] - 0s 4ms/step - loss: 0.7575 - binary_accuracy: 0.4644 - val_loss: 0.7003 - val_binary_accuracy: 0.5227\n",
            "Epoch 59/100\n",
            "44/44 [==============================] - 0s 4ms/step - loss: 0.7192 - binary_accuracy: 0.5005 - val_loss: 0.7141 - val_binary_accuracy: 0.4972\n",
            "Epoch 60/100\n",
            "44/44 [==============================] - 0s 4ms/step - loss: 0.7306 - binary_accuracy: 0.5239 - val_loss: 0.7033 - val_binary_accuracy: 0.5114\n",
            "Epoch 61/100\n",
            "44/44 [==============================] - 0s 4ms/step - loss: 0.7687 - binary_accuracy: 0.4974 - val_loss: 0.7846 - val_binary_accuracy: 0.4773\n",
            "Epoch 62/100\n",
            "44/44 [==============================] - 0s 4ms/step - loss: 0.8155 - binary_accuracy: 0.4727 - val_loss: 0.9080 - val_binary_accuracy: 0.4773\n",
            "Epoch 63/100\n",
            "44/44 [==============================] - 0s 4ms/step - loss: 0.7199 - binary_accuracy: 0.5140 - val_loss: 0.7295 - val_binary_accuracy: 0.4773\n",
            "Epoch 64/100\n",
            "44/44 [==============================] - 0s 4ms/step - loss: 0.8690 - binary_accuracy: 0.5251 - val_loss: 0.7040 - val_binary_accuracy: 0.5114\n",
            "Epoch 65/100\n",
            "44/44 [==============================] - 0s 4ms/step - loss: 0.7280 - binary_accuracy: 0.4735 - val_loss: 0.7252 - val_binary_accuracy: 0.4773\n",
            "Epoch 66/100\n",
            "44/44 [==============================] - 0s 4ms/step - loss: 0.7258 - binary_accuracy: 0.4424 - val_loss: 1.0715 - val_binary_accuracy: 0.4773\n",
            "Epoch 67/100\n",
            "44/44 [==============================] - 0s 4ms/step - loss: 0.9388 - binary_accuracy: 0.4779 - val_loss: 0.7097 - val_binary_accuracy: 0.4773\n",
            "Epoch 68/100\n",
            "44/44 [==============================] - 0s 4ms/step - loss: 0.7457 - binary_accuracy: 0.5209 - val_loss: 1.0470 - val_binary_accuracy: 0.4773\n",
            "Epoch 69/100\n",
            "44/44 [==============================] - 0s 4ms/step - loss: 0.8216 - binary_accuracy: 0.5212 - val_loss: 0.8451 - val_binary_accuracy: 0.5227\n",
            "Epoch 70/100\n",
            "44/44 [==============================] - 0s 4ms/step - loss: 0.7832 - binary_accuracy: 0.4953 - val_loss: 0.7209 - val_binary_accuracy: 0.4773\n",
            "Epoch 71/100\n",
            "44/44 [==============================] - 0s 4ms/step - loss: 0.7373 - binary_accuracy: 0.5017 - val_loss: 0.9040 - val_binary_accuracy: 0.5227\n",
            "Epoch 72/100\n",
            "44/44 [==============================] - 0s 4ms/step - loss: 0.8513 - binary_accuracy: 0.5060 - val_loss: 0.8797 - val_binary_accuracy: 0.4773\n",
            "Epoch 73/100\n",
            "44/44 [==============================] - 0s 4ms/step - loss: 0.8154 - binary_accuracy: 0.4999 - val_loss: 0.8076 - val_binary_accuracy: 0.5227\n",
            "Epoch 74/100\n",
            "44/44 [==============================] - 0s 4ms/step - loss: 0.8012 - binary_accuracy: 0.4866 - val_loss: 1.2767 - val_binary_accuracy: 0.4773\n",
            "Epoch 75/100\n",
            "44/44 [==============================] - 0s 4ms/step - loss: 0.9211 - binary_accuracy: 0.5237 - val_loss: 0.7068 - val_binary_accuracy: 0.4773\n",
            "Epoch 76/100\n",
            "44/44 [==============================] - 0s 4ms/step - loss: 0.7236 - binary_accuracy: 0.5030 - val_loss: 0.7215 - val_binary_accuracy: 0.5227\n",
            "Epoch 77/100\n",
            "44/44 [==============================] - 0s 4ms/step - loss: 0.7321 - binary_accuracy: 0.4978 - val_loss: 0.7121 - val_binary_accuracy: 0.5227\n",
            "Epoch 78/100\n",
            "44/44 [==============================] - 0s 5ms/step - loss: 0.7505 - binary_accuracy: 0.5243 - val_loss: 0.7224 - val_binary_accuracy: 0.4773\n",
            "Epoch 79/100\n",
            "44/44 [==============================] - 0s 4ms/step - loss: 0.8252 - binary_accuracy: 0.5537 - val_loss: 0.7106 - val_binary_accuracy: 0.4773\n",
            "Epoch 80/100\n",
            "44/44 [==============================] - 0s 4ms/step - loss: 0.7273 - binary_accuracy: 0.5017 - val_loss: 0.7030 - val_binary_accuracy: 0.5227\n",
            "Epoch 81/100\n",
            "44/44 [==============================] - 0s 4ms/step - loss: 0.7058 - binary_accuracy: 0.5345 - val_loss: 0.7309 - val_binary_accuracy: 0.5227\n",
            "Epoch 82/100\n",
            "44/44 [==============================] - 0s 4ms/step - loss: 0.8289 - binary_accuracy: 0.4961 - val_loss: 0.8289 - val_binary_accuracy: 0.4773\n",
            "Epoch 83/100\n",
            "44/44 [==============================] - 0s 4ms/step - loss: 0.7430 - binary_accuracy: 0.5035 - val_loss: 0.7772 - val_binary_accuracy: 0.5256\n",
            "Epoch 84/100\n",
            "44/44 [==============================] - 0s 4ms/step - loss: 0.7756 - binary_accuracy: 0.5081 - val_loss: 0.8260 - val_binary_accuracy: 0.4773\n",
            "Epoch 85/100\n",
            "44/44 [==============================] - 0s 5ms/step - loss: 0.7506 - binary_accuracy: 0.5079 - val_loss: 0.7131 - val_binary_accuracy: 0.5227\n",
            "Epoch 86/100\n",
            "44/44 [==============================] - 0s 4ms/step - loss: 0.8225 - binary_accuracy: 0.4986 - val_loss: 0.7473 - val_binary_accuracy: 0.4773\n",
            "Epoch 87/100\n",
            "44/44 [==============================] - 0s 4ms/step - loss: 0.7825 - binary_accuracy: 0.4717 - val_loss: 0.7467 - val_binary_accuracy: 0.4801\n",
            "Epoch 88/100\n",
            "44/44 [==============================] - 0s 4ms/step - loss: 0.7273 - binary_accuracy: 0.5093 - val_loss: 0.7424 - val_binary_accuracy: 0.4858\n",
            "Epoch 89/100\n",
            "44/44 [==============================] - 0s 4ms/step - loss: 0.8257 - binary_accuracy: 0.4927 - val_loss: 0.7059 - val_binary_accuracy: 0.5227\n",
            "Epoch 90/100\n",
            "44/44 [==============================] - 0s 4ms/step - loss: 0.7162 - binary_accuracy: 0.5244 - val_loss: 0.7434 - val_binary_accuracy: 0.5227\n",
            "Epoch 91/100\n",
            "44/44 [==============================] - 0s 4ms/step - loss: 0.8361 - binary_accuracy: 0.5274 - val_loss: 0.9809 - val_binary_accuracy: 0.5227\n",
            "Epoch 92/100\n",
            "44/44 [==============================] - 0s 4ms/step - loss: 0.7437 - binary_accuracy: 0.5387 - val_loss: 0.7570 - val_binary_accuracy: 0.5227\n",
            "Epoch 93/100\n",
            "44/44 [==============================] - 0s 4ms/step - loss: 0.6916 - binary_accuracy: 0.5665 - val_loss: 1.0255 - val_binary_accuracy: 0.4773\n",
            "Epoch 94/100\n",
            "44/44 [==============================] - 0s 4ms/step - loss: 0.7616 - binary_accuracy: 0.5341 - val_loss: 0.7477 - val_binary_accuracy: 0.5227\n",
            "Epoch 95/100\n",
            "44/44 [==============================] - 0s 4ms/step - loss: 0.7858 - binary_accuracy: 0.5115 - val_loss: 1.0454 - val_binary_accuracy: 0.5227\n",
            "Epoch 96/100\n",
            "44/44 [==============================] - 0s 4ms/step - loss: 0.8714 - binary_accuracy: 0.4740 - val_loss: 0.7331 - val_binary_accuracy: 0.4773\n",
            "Epoch 97/100\n",
            "44/44 [==============================] - 0s 4ms/step - loss: 0.7287 - binary_accuracy: 0.4960 - val_loss: 0.7944 - val_binary_accuracy: 0.5256\n",
            "Epoch 98/100\n",
            "44/44 [==============================] - 0s 4ms/step - loss: 0.7560 - binary_accuracy: 0.5161 - val_loss: 0.7295 - val_binary_accuracy: 0.4773\n",
            "Epoch 99/100\n",
            "44/44 [==============================] - 0s 4ms/step - loss: 0.7184 - binary_accuracy: 0.5540 - val_loss: 0.7299 - val_binary_accuracy: 0.5256\n",
            "Epoch 100/100\n",
            "44/44 [==============================] - 0s 4ms/step - loss: 0.7395 - binary_accuracy: 0.5330 - val_loss: 0.7174 - val_binary_accuracy: 0.5085\n"
          ],
          "name": "stdout"
        }
      ]
    },
    {
      "cell_type": "code",
      "metadata": {
        "colab": {
          "base_uri": "https://localhost:8080/"
        },
        "id": "J_3zHTJbmfZ9",
        "outputId": "c7ada7a2-ddc3-4335-db23-b7957324a43d"
      },
      "source": [
        "print(history.history.keys())\n",
        "data = history.history"
      ],
      "execution_count": null,
      "outputs": [
        {
          "output_type": "stream",
          "text": [
            "dict_keys(['loss', 'binary_accuracy', 'val_loss', 'val_binary_accuracy'])\n"
          ],
          "name": "stdout"
        }
      ]
    },
    {
      "cell_type": "code",
      "metadata": {
        "colab": {
          "base_uri": "https://localhost:8080/",
          "height": 313
        },
        "id": "1qxP7GwQstKl",
        "outputId": "cdea8950-88dc-4762-9768-c994411b2cee"
      },
      "source": [
        "print(f\"Final Train Acc = {data['binary_accuracy'][-1]}\")\n",
        "print(f\"Final Test Acc = {data['val_binary_accuracy'][-1]}\")\n",
        "plot([data['binary_accuracy'], data['val_binary_accuracy']], ['Train Acc.', 'Test Acc.'], x_label='EPOCHS', y_label='Accuracy')"
      ],
      "execution_count": null,
      "outputs": [
        {
          "output_type": "stream",
          "text": [
            "Final Train Acc = 0.5035511255264282\n",
            "Final Test Acc = 0.49147728085517883\n"
          ],
          "name": "stdout"
        },
        {
          "output_type": "display_data",
          "data": {
            "image/png": "[encoded data removed]",
            "text/plain": [
              "<Figure size 432x288 with 1 Axes>"
            ]
          },
          "metadata": {
            "tags": [],
            "needs_background": "light"
          }
        }
      ]
    },
    {
      "cell_type": "code",
      "metadata": {
        "colab": {
          "base_uri": "https://localhost:8080/",
          "height": 313
        },
        "id": "VV5wZ22ktYPS",
        "outputId": "c15d82f1-9e71-4b42-a040-41ff3bd504ff"
      },
      "source": [
        "print(f\"Final Train Loss = {data['loss'][-1]}\")\n",
        "print(f\"Final Test Loss = {data['val_loss'][-1]}\")\n",
        "plot([data['loss'], data['val_loss']], ['Train Loss', 'Test Loss'], x_label='EPOCHS', y_label='LOSS')"
      ],
      "execution_count": null,
      "outputs": [
        {
          "output_type": "stream",
          "text": [
            "Final Train Loss = 0.7736141085624695\n",
            "Final Test Loss = 0.767953097820282\n"
          ],
          "name": "stdout"
        },
        {
          "output_type": "display_data",
          "data": {
            "image/png": "[encoded data removed]",
            "text/plain": [
              "<Figure size 432x288 with 1 Axes>"
            ]
          },
          "metadata": {
            "tags": [],
            "needs_background": "light"
          }
        }
      ]
    },
    {
      "cell_type": "code",
      "metadata": {
        "id": "ZbPwXd8dsyKl"
      },
      "source": [
        "import matplotlib\n",
        "import matplotlib.pyplot as plt\n",
        "%matplotlib inline\n",
        "\n",
        "\n",
        "def plot(args, labels, x_label: str = None, y_label: str = None, tag: str = None, path: str = '.', show=True):\n",
        "    for arg, label in zip(args, labels):\n",
        "        epochs = [i+1 for i in range(len(arg))]\n",
        "        plt.plot(epochs, arg, label=label)\n",
        "\n",
        "    if y_label:\n",
        "        plt.ylabel(y_label)\n",
        "    if x_label:\n",
        "        plt.xlabel(x_label)\n",
        "\n",
        "    if tag:\n",
        "        plt.title(tag)\n",
        "\n",
        "    plt.legend()\n",
        "    if path:\n",
        "        plt.savefig(path)\n",
        "    if show:\n",
        "      plt.show()\n",
        "    else:\n",
        "      plt.clf()"
      ],
      "execution_count": null,
      "outputs": []
    },
    {
      "cell_type": "code",
      "metadata": {
        "id": "ozxZ4pJGzkML"
      },
      "source": [
        "from keras.layers import  Input, Embedding, Dense, LSTM\n",
        "from keras.models import Model\n",
        "import keras\n",
        "import keras.utils"
      ],
      "execution_count": null,
      "outputs": []
    },
    {
      "cell_type": "code",
      "metadata": {
        "colab": {
          "base_uri": "https://localhost:8080/"
        },
        "id": "vWnt8F887euK",
        "outputId": "4fa9867a-8855-4476-eb5c-3ecb3ed157f3"
      },
      "source": [
        "model_n = keras.models.Sequential()\n",
        "\n",
        "model_n.add(keras.layers.LSTM(units=32, batch_input_shape=(32, 41, 4), return_sequences=True))\n",
        "model_n.add(keras.layers.LSTM(units=64, return_sequences=False))\n",
        "model_n.add(Dense(units=1, activation='sigmoid'))\n",
        "model_n.summary()\n",
        "\n"
      ],
      "execution_count": null,
      "outputs": [
        {
          "output_type": "stream",
          "text": [
            "Model: \"sequential_10\"\n",
            "_________________________________________________________________\n",
            "Layer (type)                 Output Shape              Param #   \n",
            "=================================================================\n",
            "lstm_22 (LSTM)               (32, 41, 32)              4736      \n",
            "_________________________________________________________________\n",
            "lstm_23 (LSTM)               (32, 64)                  24832     \n",
            "_________________________________________________________________\n",
            "dense_30 (Dense)             (32, 1)                   65        \n",
            "=================================================================\n",
            "Total params: 29,633\n",
            "Trainable params: 29,633\n",
            "Non-trainable params: 0\n",
            "_________________________________________________________________\n"
          ],
          "name": "stdout"
        }
      ]
    },
    {
      "cell_type": "code",
      "metadata": {
        "id": "to29QyvWAsTt"
      },
      "source": [
        "model_n.compile(loss='binary_crossentropy',\n",
        "              optimizer='rmsprop',\n",
        "              metrics=['accuracy'])\n"
      ],
      "execution_count": null,
      "outputs": []
    },
    {
      "cell_type": "code",
      "metadata": {
        "colab": {
          "base_uri": "https://localhost:8080/"
        },
        "id": "RP7Y-SsEEKhG",
        "outputId": "0aed7997-ef4a-4780-dbd1-24c310dc463f"
      },
      "source": [
        "hist_ = model_n.fit(train_x, train_y,\n",
        "          batch_size=32, epochs=100,\n",
        "          validation_data=(test_x, test_y))"
      ],
      "execution_count": null,
      "outputs": [
        {
          "output_type": "stream",
          "text": [
            "Epoch 1/100\n",
            "44/44 [==============================] - 1s 32ms/step - loss: 0.9721 - accuracy: 0.5028 - val_loss: 0.6897 - val_accuracy: 0.5142\n",
            "Epoch 2/100\n",
            "44/44 [==============================] - 1s 31ms/step - loss: 0.7052 - accuracy: 0.4794 - val_loss: 0.6915 - val_accuracy: 0.4972\n",
            "Epoch 3/100\n",
            "44/44 [==============================] - 1s 31ms/step - loss: 0.7239 - accuracy: 0.4964 - val_loss: 0.7172 - val_accuracy: 0.5199\n",
            "Epoch 4/100\n",
            "44/44 [==============================] - 1s 31ms/step - loss: 0.7176 - accuracy: 0.4773 - val_loss: 0.7034 - val_accuracy: 0.4886\n",
            "Epoch 5/100\n",
            "44/44 [==============================] - 1s 32ms/step - loss: 0.6988 - accuracy: 0.5241 - val_loss: 0.7008 - val_accuracy: 0.4744\n",
            "Epoch 6/100\n",
            "44/44 [==============================] - 1s 32ms/step - loss: 0.6963 - accuracy: 0.5320 - val_loss: 0.7029 - val_accuracy: 0.4801\n",
            "Epoch 7/100\n",
            "44/44 [==============================] - 1s 32ms/step - loss: 0.6920 - accuracy: 0.5241 - val_loss: 0.6992 - val_accuracy: 0.5284\n",
            "Epoch 8/100\n",
            "44/44 [==============================] - 1s 31ms/step - loss: 0.6890 - accuracy: 0.5263 - val_loss: 0.6988 - val_accuracy: 0.5057\n",
            "Epoch 9/100\n",
            "44/44 [==============================] - 1s 31ms/step - loss: 0.6855 - accuracy: 0.5284 - val_loss: 0.6905 - val_accuracy: 0.4972\n",
            "Epoch 10/100\n",
            "44/44 [==============================] - 1s 31ms/step - loss: 0.6834 - accuracy: 0.5376 - val_loss: 0.7190 - val_accuracy: 0.4943\n",
            "Epoch 11/100\n",
            "44/44 [==============================] - 1s 31ms/step - loss: 0.6808 - accuracy: 0.5341 - val_loss: 0.7035 - val_accuracy: 0.4943\n",
            "Epoch 12/100\n",
            "44/44 [==============================] - 1s 30ms/step - loss: 0.6819 - accuracy: 0.5405 - val_loss: 0.6988 - val_accuracy: 0.5256\n",
            "Epoch 13/100\n",
            "44/44 [==============================] - 1s 31ms/step - loss: 0.6816 - accuracy: 0.5412 - val_loss: 0.7328 - val_accuracy: 0.5000\n",
            "Epoch 14/100\n",
            "44/44 [==============================] - 1s 30ms/step - loss: 0.6751 - accuracy: 0.5604 - val_loss: 0.6916 - val_accuracy: 0.5000\n",
            "Epoch 15/100\n",
            "44/44 [==============================] - 1s 31ms/step - loss: 0.6667 - accuracy: 0.5597 - val_loss: 0.7052 - val_accuracy: 0.4943\n",
            "Epoch 16/100\n",
            "44/44 [==============================] - 1s 31ms/step - loss: 0.6606 - accuracy: 0.5746 - val_loss: 0.6951 - val_accuracy: 0.5057\n",
            "Epoch 17/100\n",
            "44/44 [==============================] - 1s 31ms/step - loss: 0.6563 - accuracy: 0.5774 - val_loss: 0.7019 - val_accuracy: 0.5483\n",
            "Epoch 18/100\n",
            "44/44 [==============================] - 1s 31ms/step - loss: 0.6549 - accuracy: 0.5781 - val_loss: 0.7292 - val_accuracy: 0.5312\n",
            "Epoch 19/100\n",
            "44/44 [==============================] - 1s 31ms/step - loss: 0.6564 - accuracy: 0.5831 - val_loss: 0.7595 - val_accuracy: 0.4744\n",
            "Epoch 20/100\n",
            "44/44 [==============================] - 1s 31ms/step - loss: 0.6405 - accuracy: 0.5810 - val_loss: 0.7657 - val_accuracy: 0.5312\n",
            "Epoch 21/100\n",
            "44/44 [==============================] - 1s 31ms/step - loss: 0.6384 - accuracy: 0.5866 - val_loss: 0.7414 - val_accuracy: 0.5170\n",
            "Epoch 22/100\n",
            "44/44 [==============================] - 1s 31ms/step - loss: 0.6350 - accuracy: 0.5945 - val_loss: 0.7476 - val_accuracy: 0.5057\n",
            "Epoch 23/100\n",
            "44/44 [==============================] - 1s 31ms/step - loss: 0.6223 - accuracy: 0.5980 - val_loss: 0.7802 - val_accuracy: 0.4830\n",
            "Epoch 24/100\n",
            "44/44 [==============================] - 1s 32ms/step - loss: 0.6247 - accuracy: 0.6044 - val_loss: 0.7794 - val_accuracy: 0.4858\n",
            "Epoch 25/100\n",
            "44/44 [==============================] - 1s 31ms/step - loss: 0.6136 - accuracy: 0.6009 - val_loss: 0.7845 - val_accuracy: 0.4801\n",
            "Epoch 26/100\n",
            "44/44 [==============================] - 1s 31ms/step - loss: 0.6030 - accuracy: 0.6257 - val_loss: 0.7569 - val_accuracy: 0.4744\n",
            "Epoch 27/100\n",
            "44/44 [==============================] - 1s 31ms/step - loss: 0.6107 - accuracy: 0.6250 - val_loss: 0.7633 - val_accuracy: 0.4716\n",
            "Epoch 28/100\n",
            "44/44 [==============================] - 1s 32ms/step - loss: 0.5901 - accuracy: 0.6463 - val_loss: 0.7702 - val_accuracy: 0.5170\n",
            "Epoch 29/100\n",
            "44/44 [==============================] - 1s 31ms/step - loss: 0.5972 - accuracy: 0.6328 - val_loss: 0.8072 - val_accuracy: 0.4943\n",
            "Epoch 30/100\n",
            "44/44 [==============================] - 1s 31ms/step - loss: 0.5816 - accuracy: 0.6392 - val_loss: 0.7749 - val_accuracy: 0.5057\n",
            "Epoch 31/100\n",
            "44/44 [==============================] - 1s 31ms/step - loss: 0.5651 - accuracy: 0.6776 - val_loss: 0.8144 - val_accuracy: 0.4716\n",
            "Epoch 32/100\n",
            "44/44 [==============================] - 1s 32ms/step - loss: 0.5569 - accuracy: 0.6754 - val_loss: 0.8603 - val_accuracy: 0.5114\n",
            "Epoch 33/100\n",
            "44/44 [==============================] - 1s 31ms/step - loss: 0.5520 - accuracy: 0.6875 - val_loss: 0.8873 - val_accuracy: 0.4773\n",
            "Epoch 34/100\n",
            "44/44 [==============================] - 1s 31ms/step - loss: 0.5512 - accuracy: 0.6804 - val_loss: 0.8410 - val_accuracy: 0.4943\n",
            "Epoch 35/100\n",
            "44/44 [==============================] - 1s 32ms/step - loss: 0.5336 - accuracy: 0.6967 - val_loss: 0.8827 - val_accuracy: 0.5085\n",
            "Epoch 36/100\n",
            "44/44 [==============================] - 1s 31ms/step - loss: 0.5254 - accuracy: 0.6932 - val_loss: 0.9254 - val_accuracy: 0.4915\n",
            "Epoch 37/100\n",
            "44/44 [==============================] - 1s 31ms/step - loss: 0.5286 - accuracy: 0.6889 - val_loss: 0.9200 - val_accuracy: 0.5057\n",
            "Epoch 38/100\n",
            "44/44 [==============================] - 1s 31ms/step - loss: 0.5123 - accuracy: 0.7223 - val_loss: 0.9219 - val_accuracy: 0.4915\n",
            "Epoch 39/100\n",
            "44/44 [==============================] - 1s 31ms/step - loss: 0.5020 - accuracy: 0.7216 - val_loss: 0.9772 - val_accuracy: 0.5312\n",
            "Epoch 40/100\n",
            "44/44 [==============================] - 1s 31ms/step - loss: 0.4907 - accuracy: 0.7294 - val_loss: 0.9932 - val_accuracy: 0.4801\n",
            "Epoch 41/100\n",
            "44/44 [==============================] - 1s 31ms/step - loss: 0.4868 - accuracy: 0.7429 - val_loss: 0.9364 - val_accuracy: 0.5199\n",
            "Epoch 42/100\n",
            "44/44 [==============================] - 1s 31ms/step - loss: 0.4745 - accuracy: 0.7287 - val_loss: 0.9265 - val_accuracy: 0.5199\n",
            "Epoch 43/100\n",
            "44/44 [==============================] - 1s 33ms/step - loss: 0.4717 - accuracy: 0.7358 - val_loss: 1.0149 - val_accuracy: 0.5170\n",
            "Epoch 44/100\n",
            "44/44 [==============================] - 1s 31ms/step - loss: 0.4665 - accuracy: 0.7315 - val_loss: 1.0052 - val_accuracy: 0.5341\n",
            "Epoch 45/100\n",
            "44/44 [==============================] - 1s 31ms/step - loss: 0.4585 - accuracy: 0.7656 - val_loss: 0.9747 - val_accuracy: 0.5199\n",
            "Epoch 46/100\n",
            "44/44 [==============================] - 1s 30ms/step - loss: 0.4448 - accuracy: 0.7607 - val_loss: 1.0598 - val_accuracy: 0.5256\n",
            "Epoch 47/100\n",
            "44/44 [==============================] - 1s 31ms/step - loss: 0.4591 - accuracy: 0.7599 - val_loss: 0.9896 - val_accuracy: 0.5227\n",
            "Epoch 48/100\n",
            "44/44 [==============================] - 1s 31ms/step - loss: 0.4329 - accuracy: 0.7670 - val_loss: 1.0563 - val_accuracy: 0.5085\n",
            "Epoch 49/100\n",
            "44/44 [==============================] - 1s 31ms/step - loss: 0.4305 - accuracy: 0.7763 - val_loss: 1.1011 - val_accuracy: 0.5369\n",
            "Epoch 50/100\n",
            "44/44 [==============================] - 1s 31ms/step - loss: 0.4220 - accuracy: 0.7855 - val_loss: 1.0951 - val_accuracy: 0.4972\n",
            "Epoch 51/100\n",
            "44/44 [==============================] - 1s 32ms/step - loss: 0.4197 - accuracy: 0.7791 - val_loss: 0.9818 - val_accuracy: 0.5312\n",
            "Epoch 52/100\n",
            "44/44 [==============================] - 1s 31ms/step - loss: 0.4096 - accuracy: 0.7919 - val_loss: 1.0957 - val_accuracy: 0.5312\n",
            "Epoch 53/100\n",
            "44/44 [==============================] - 1s 31ms/step - loss: 0.3963 - accuracy: 0.7983 - val_loss: 1.1317 - val_accuracy: 0.5199\n",
            "Epoch 54/100\n",
            "44/44 [==============================] - 1s 32ms/step - loss: 0.3921 - accuracy: 0.8054 - val_loss: 1.1144 - val_accuracy: 0.5256\n",
            "Epoch 55/100\n",
            "44/44 [==============================] - 1s 31ms/step - loss: 0.3899 - accuracy: 0.8161 - val_loss: 1.0790 - val_accuracy: 0.5199\n",
            "Epoch 56/100\n",
            "44/44 [==============================] - 1s 32ms/step - loss: 0.3641 - accuracy: 0.8210 - val_loss: 1.1894 - val_accuracy: 0.5341\n",
            "Epoch 57/100\n",
            "44/44 [==============================] - 1s 31ms/step - loss: 0.3625 - accuracy: 0.8310 - val_loss: 1.1669 - val_accuracy: 0.5341\n",
            "Epoch 58/100\n",
            "44/44 [==============================] - 1s 31ms/step - loss: 0.3827 - accuracy: 0.8232 - val_loss: 1.0940 - val_accuracy: 0.5369\n",
            "Epoch 59/100\n",
            "44/44 [==============================] - 1s 31ms/step - loss: 0.3547 - accuracy: 0.8310 - val_loss: 1.1522 - val_accuracy: 0.5085\n",
            "Epoch 60/100\n",
            "44/44 [==============================] - 1s 31ms/step - loss: 0.3300 - accuracy: 0.8487 - val_loss: 1.1473 - val_accuracy: 0.5227\n",
            "Epoch 61/100\n",
            "44/44 [==============================] - 1s 31ms/step - loss: 0.3394 - accuracy: 0.8352 - val_loss: 1.1694 - val_accuracy: 0.5284\n",
            "Epoch 62/100\n",
            "44/44 [==============================] - 1s 31ms/step - loss: 0.3285 - accuracy: 0.8480 - val_loss: 1.3231 - val_accuracy: 0.5142\n",
            "Epoch 63/100\n",
            "44/44 [==============================] - 1s 31ms/step - loss: 0.3233 - accuracy: 0.8494 - val_loss: 1.2257 - val_accuracy: 0.5085\n",
            "Epoch 64/100\n",
            "44/44 [==============================] - 1s 32ms/step - loss: 0.3156 - accuracy: 0.8565 - val_loss: 1.3155 - val_accuracy: 0.5369\n",
            "Epoch 65/100\n",
            "44/44 [==============================] - 1s 31ms/step - loss: 0.3221 - accuracy: 0.8501 - val_loss: 1.2305 - val_accuracy: 0.5312\n",
            "Epoch 66/100\n",
            "44/44 [==============================] - 1s 31ms/step - loss: 0.2918 - accuracy: 0.8707 - val_loss: 1.2949 - val_accuracy: 0.4943\n",
            "Epoch 67/100\n",
            "44/44 [==============================] - 1s 32ms/step - loss: 0.3033 - accuracy: 0.8636 - val_loss: 1.2438 - val_accuracy: 0.5199\n",
            "Epoch 68/100\n",
            "44/44 [==============================] - 1s 31ms/step - loss: 0.2878 - accuracy: 0.8764 - val_loss: 1.2703 - val_accuracy: 0.5199\n",
            "Epoch 69/100\n",
            "44/44 [==============================] - 1s 31ms/step - loss: 0.2793 - accuracy: 0.8786 - val_loss: 1.2658 - val_accuracy: 0.5455\n",
            "Epoch 70/100\n",
            "44/44 [==============================] - 1s 32ms/step - loss: 0.2511 - accuracy: 0.8970 - val_loss: 1.3241 - val_accuracy: 0.5256\n",
            "Epoch 71/100\n",
            "44/44 [==============================] - 1s 31ms/step - loss: 0.2731 - accuracy: 0.8800 - val_loss: 1.3607 - val_accuracy: 0.5256\n",
            "Epoch 72/100\n",
            "44/44 [==============================] - 1s 33ms/step - loss: 0.2559 - accuracy: 0.8864 - val_loss: 1.3209 - val_accuracy: 0.5170\n",
            "Epoch 73/100\n",
            "44/44 [==============================] - 1s 32ms/step - loss: 0.2517 - accuracy: 0.8864 - val_loss: 1.4662 - val_accuracy: 0.5483\n",
            "Epoch 74/100\n",
            "44/44 [==============================] - 1s 31ms/step - loss: 0.2533 - accuracy: 0.8899 - val_loss: 1.3186 - val_accuracy: 0.5256\n",
            "Epoch 75/100\n",
            "44/44 [==============================] - 1s 31ms/step - loss: 0.2119 - accuracy: 0.9112 - val_loss: 1.3442 - val_accuracy: 0.5142\n",
            "Epoch 76/100\n",
            "44/44 [==============================] - 1s 32ms/step - loss: 0.2364 - accuracy: 0.8942 - val_loss: 1.2350 - val_accuracy: 0.5511\n",
            "Epoch 77/100\n",
            "44/44 [==============================] - 1s 32ms/step - loss: 0.2208 - accuracy: 0.9084 - val_loss: 1.4312 - val_accuracy: 0.5284\n",
            "Epoch 78/100\n",
            "44/44 [==============================] - 1s 32ms/step - loss: 0.2122 - accuracy: 0.9197 - val_loss: 1.4407 - val_accuracy: 0.5284\n",
            "Epoch 79/100\n",
            "44/44 [==============================] - 1s 33ms/step - loss: 0.2114 - accuracy: 0.9112 - val_loss: 1.3202 - val_accuracy: 0.5455\n",
            "Epoch 80/100\n",
            "44/44 [==============================] - 1s 32ms/step - loss: 0.2067 - accuracy: 0.9205 - val_loss: 1.5132 - val_accuracy: 0.5057\n",
            "Epoch 81/100\n",
            "44/44 [==============================] - 1s 31ms/step - loss: 0.1909 - accuracy: 0.9283 - val_loss: 1.4467 - val_accuracy: 0.5142\n",
            "Epoch 82/100\n",
            "44/44 [==============================] - 1s 31ms/step - loss: 0.1807 - accuracy: 0.9240 - val_loss: 1.3899 - val_accuracy: 0.5284\n",
            "Epoch 83/100\n",
            "44/44 [==============================] - 1s 32ms/step - loss: 0.1658 - accuracy: 0.9439 - val_loss: 1.5675 - val_accuracy: 0.5256\n",
            "Epoch 84/100\n",
            "44/44 [==============================] - 1s 32ms/step - loss: 0.1709 - accuracy: 0.9332 - val_loss: 1.5761 - val_accuracy: 0.5170\n",
            "Epoch 85/100\n",
            "44/44 [==============================] - 1s 31ms/step - loss: 0.1750 - accuracy: 0.9347 - val_loss: 1.6021 - val_accuracy: 0.5312\n",
            "Epoch 86/100\n",
            "44/44 [==============================] - 1s 31ms/step - loss: 0.1674 - accuracy: 0.9276 - val_loss: 1.6722 - val_accuracy: 0.5142\n",
            "Epoch 87/100\n",
            "44/44 [==============================] - 1s 32ms/step - loss: 0.1687 - accuracy: 0.9339 - val_loss: 1.6311 - val_accuracy: 0.5256\n",
            "Epoch 88/100\n",
            "44/44 [==============================] - 1s 32ms/step - loss: 0.1461 - accuracy: 0.9510 - val_loss: 1.6721 - val_accuracy: 0.5057\n",
            "Epoch 89/100\n",
            "44/44 [==============================] - 1s 32ms/step - loss: 0.1644 - accuracy: 0.9418 - val_loss: 1.5674 - val_accuracy: 0.5369\n",
            "Epoch 90/100\n",
            "44/44 [==============================] - 1s 31ms/step - loss: 0.1445 - accuracy: 0.9432 - val_loss: 1.5439 - val_accuracy: 0.5227\n",
            "Epoch 91/100\n",
            "44/44 [==============================] - 1s 31ms/step - loss: 0.1643 - accuracy: 0.9396 - val_loss: 1.6445 - val_accuracy: 0.5114\n",
            "Epoch 92/100\n",
            "44/44 [==============================] - 1s 31ms/step - loss: 0.1609 - accuracy: 0.9339 - val_loss: 1.7447 - val_accuracy: 0.5284\n",
            "Epoch 93/100\n",
            "44/44 [==============================] - 1s 32ms/step - loss: 0.1414 - accuracy: 0.9510 - val_loss: 1.5513 - val_accuracy: 0.5227\n",
            "Epoch 94/100\n",
            "44/44 [==============================] - 1s 32ms/step - loss: 0.1252 - accuracy: 0.9553 - val_loss: 1.7843 - val_accuracy: 0.5199\n",
            "Epoch 95/100\n",
            "44/44 [==============================] - 1s 32ms/step - loss: 0.1209 - accuracy: 0.9545 - val_loss: 1.6205 - val_accuracy: 0.5369\n",
            "Epoch 96/100\n",
            "44/44 [==============================] - 1s 31ms/step - loss: 0.1706 - accuracy: 0.9389 - val_loss: 1.7253 - val_accuracy: 0.5170\n",
            "Epoch 97/100\n",
            "44/44 [==============================] - 1s 31ms/step - loss: 0.1313 - accuracy: 0.9503 - val_loss: 1.5972 - val_accuracy: 0.5483\n",
            "Epoch 98/100\n",
            "44/44 [==============================] - 1s 31ms/step - loss: 0.1074 - accuracy: 0.9588 - val_loss: 1.8084 - val_accuracy: 0.5426\n",
            "Epoch 99/100\n",
            "44/44 [==============================] - 1s 32ms/step - loss: 0.1069 - accuracy: 0.9588 - val_loss: 1.8186 - val_accuracy: 0.5369\n",
            "Epoch 100/100\n",
            "44/44 [==============================] - 1s 31ms/step - loss: 0.0979 - accuracy: 0.9702 - val_loss: 1.9014 - val_accuracy: 0.5284\n"
          ],
          "name": "stdout"
        }
      ]
    },
    {
      "cell_type": "code",
      "metadata": {
        "colab": {
          "base_uri": "https://localhost:8080/"
        },
        "id": "im0FGqwGG8Rq",
        "outputId": "43cfa008-1ba4-4a16-ec46-4dfee5efa70e"
      },
      "source": [
        "print(hist_.history.keys())\n",
        "data_n = hist_.history"
      ],
      "execution_count": null,
      "outputs": [
        {
          "output_type": "stream",
          "text": [
            "dict_keys(['loss', 'accuracy', 'val_loss', 'val_accuracy'])\n"
          ],
          "name": "stdout"
        }
      ]
    },
    {
      "cell_type": "code",
      "metadata": {
        "colab": {
          "base_uri": "https://localhost:8080/",
          "height": 313
        },
        "id": "oVgeLkZkEUbR",
        "outputId": "0b221624-8df3-4295-d9c5-05f60cdcb688"
      },
      "source": [
        "print(f\"Final Train Acc = {data_n['accuracy'][-1]}\")\n",
        "print(f\"Final Test Acc = {data_n['val_accuracy'][-1]}\")\n",
        "plot([data_n['accuracy'], data_n['val_accuracy']], ['Train Acc.', 'Test Acc.'], x_label='EPOCHS', y_label='Accuracy')"
      ],
      "execution_count": null,
      "outputs": [
        {
          "output_type": "stream",
          "text": [
            "Final Train Acc = 0.9630681872367859\n",
            "Final Test Acc = 0.6136363744735718\n"
          ],
          "name": "stdout"
        },
        {
          "output_type": "display_data",
          "data": {
            "image/png": "[encoded data removed]",
            "text/plain": [
              "<Figure size 432x288 with 1 Axes>"
            ]
          },
          "metadata": {
            "tags": [],
            "needs_background": "light"
          }
        }
      ]
    },
    {
      "cell_type": "code",
      "metadata": {
        "colab": {
          "base_uri": "https://localhost:8080/",
          "height": 313
        },
        "id": "xK_JBly1HGpK",
        "outputId": "a27315fa-b78c-4d21-84de-0e7b31efff33"
      },
      "source": [
        "print(f\"Final Train Loss = {data['loss'][-1]}\")\n",
        "print(f\"Final Test Loss = {data['val_loss'][-1]}\")\n",
        "plot([data['loss'], data['val_loss']], ['Train Loss', 'Test Loss'], x_label='EPOCHS', y_label='LOSS')"
      ],
      "execution_count": null,
      "outputs": [
        {
          "output_type": "stream",
          "text": [
            "Final Train Loss = 0.7736141085624695\n",
            "Final Test Loss = 0.767953097820282\n"
          ],
          "name": "stdout"
        },
        {
          "output_type": "display_data",
          "data": {
            "image/png": "[encoded data removed]",
            "text/plain": [
              "<Figure size 432x288 with 1 Axes>"
            ]
          },
          "metadata": {
            "tags": [],
            "needs_background": "light"
          }
        }
      ]
    },
    {
      "cell_type": "code",
      "metadata": {
        "id": "zTlaKdxIHzOK"
      },
      "source": [
        ""
      ],
      "execution_count": null,
      "outputs": []
    }
  ]
}